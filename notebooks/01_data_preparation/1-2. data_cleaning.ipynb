{
  "cells": [
    {
      "cell_type": "markdown",
      "metadata": {},
      "source": [
        "# Data Cleaning\n",
        "\n",
        "This notebook focuses on cleaning the Ames Housing dataset based on findings from the data exploration.\n",
        "\n",
        "## What we will do:\n",
        "1. Handle missing values systematically\n",
        "2. Detect and handle outliers\n",
        "3. Clean categorical variables\n",
        "4. Feature engineering for missing data\n",
        "5. Save cleaned dataset\n"
      ]
    },
    {
      "cell_type": "code",
      "execution_count": 30,
      "metadata": {},
      "outputs": [],
      "source": [
        "# Import libraries\n",
        "import pandas as pd\n",
        "import numpy as np\n",
        "import matplotlib.pyplot as plt\n",
        "import seaborn as sns\n",
        "from scipy import stats\n",
        "\n",
        "# Set up plotting\n",
        "plt.style.use('default')\n",
        "sns.set_palette(\"husl\")\n",
        "pd.set_option('display.max_columns', None)\n"
      ]
    },
    {
      "cell_type": "markdown",
      "metadata": {},
      "source": [
        "## 1. Load Data\n"
      ]
    },
    {
      "cell_type": "code",
      "execution_count": null,
      "metadata": {},
      "outputs": [
        {
          "name": "stdout",
          "output_type": "stream",
          "text": [
            "Original dataset shape: (1460, 81)\n",
            "Total missing values: 7829\n"
          ]
        }
      ],
      "source": [
        "# Load the dataset\n",
        "df = pd.read_csv('../../data/raw/raw.csv')\n",
        "\n",
        "print(f\"Original dataset shape: {df.shape}\")\n",
        "print(f\"Total missing values: {df.isnull().sum().sum()}\")\n"
      ]
    },
    {
      "cell_type": "markdown",
      "metadata": {},
      "source": [
        "## 2. Missing Values Analysis and Handling\n",
        "\n",
        "Based on exploration, we identified several columns with missing values. We'll handle them based on domain knowledge.\n"
      ]
    },
    {
      "cell_type": "code",
      "execution_count": 32,
      "metadata": {},
      "outputs": [
        {
          "name": "stdout",
          "output_type": "stream",
          "text": [
            "Missing values summary:\n",
            "              Missing_Count  Missing_Percent\n",
            "PoolQC                 1453        99.520548\n",
            "MiscFeature            1406        96.301370\n",
            "Alley                  1369        93.767123\n",
            "Fence                  1179        80.753425\n",
            "MasVnrType              872        59.726027\n",
            "FireplaceQu             690        47.260274\n",
            "LotFrontage             259        17.739726\n",
            "GarageType               81         5.547945\n",
            "GarageYrBlt              81         5.547945\n",
            "GarageFinish             81         5.547945\n",
            "GarageQual               81         5.547945\n",
            "GarageCond               81         5.547945\n",
            "BsmtExposure             38         2.602740\n",
            "BsmtFinType2             38         2.602740\n",
            "BsmtQual                 37         2.534247\n",
            "BsmtCond                 37         2.534247\n",
            "BsmtFinType1             37         2.534247\n",
            "MasVnrArea                8         0.547945\n",
            "Electrical                1         0.068493\n"
          ]
        }
      ],
      "source": [
        "# Get missing values summary\n",
        "missing_values = df.isnull().sum()\n",
        "missing_percent = (missing_values / len(df)) * 100\n",
        "\n",
        "missing_summary = pd.DataFrame({\n",
        "    'Missing_Count': missing_values,\n",
        "    'Missing_Percent': missing_percent\n",
        "})\n",
        "\n",
        "missing_summary = missing_summary[missing_summary['Missing_Count'] > 0]\n",
        "missing_summary = missing_summary.sort_values('Missing_Percent', ascending=False)\n",
        "\n",
        "print(\"Missing values summary:\")\n",
        "print(missing_summary)\n"
      ]
    },
    {
      "cell_type": "markdown",
      "metadata": {},
      "source": [
        "### 2.1 Handle columns with very high missing percentages (>80%)\n"
      ]
    },
    {
      "cell_type": "code",
      "execution_count": 33,
      "metadata": {},
      "outputs": [
        {
          "name": "stdout",
          "output_type": "stream",
          "text": [
            "Filled PoolQC missing values with 'None'\n",
            "Filled MiscFeature missing values with 'None'\n",
            "Filled Alley missing values with 'None'\n",
            "Filled Fence missing values with 'None'\n",
            "\n",
            "Missing values after handling high missing columns: 2422\n"
          ]
        }
      ],
      "source": [
        "# Columns with >80% missing values - these typically mean \"None\" or \"Not Available\"\n",
        "high_missing_cols = ['PoolQC', 'MiscFeature', 'Alley', 'Fence']\n",
        "\n",
        "for col in high_missing_cols:\n",
        "    if col in df.columns:\n",
        "        # Fill with 'None' to indicate absence of feature\n",
        "        df[col] = df[col].fillna('None')\n",
        "        print(f\"Filled {col} missing values with 'None'\")\n",
        "\n",
        "print(f\"\\nMissing values after handling high missing columns: {df.isnull().sum().sum()}\")\n"
      ]
    },
    {
      "cell_type": "markdown",
      "metadata": {},
      "source": [
        "### 2.2 Handle basement-related missing values\n"
      ]
    },
    {
      "cell_type": "code",
      "execution_count": 34,
      "metadata": {},
      "outputs": [
        {
          "name": "stdout",
          "output_type": "stream",
          "text": [
            "Filled BsmtQual missing values with 'None'\n",
            "Filled BsmtCond missing values with 'None'\n",
            "Filled BsmtExposure missing values with 'None'\n",
            "Filled BsmtFinType1 missing values with 'None'\n",
            "Filled BsmtFinType2 missing values with 'None'\n",
            "\n",
            "Missing values after handling basement columns: 2235\n"
          ]
        }
      ],
      "source": [
        "# Basement columns - missing likely means no basement\n",
        "basement_cols = ['BsmtQual', 'BsmtCond', 'BsmtExposure', 'BsmtFinType1', 'BsmtFinType2']\n",
        "\n",
        "for col in basement_cols:\n",
        "    if col in df.columns:\n",
        "        df[col] = df[col].fillna('None')\n",
        "        print(f\"Filled {col} missing values with 'None'\")\n",
        "\n",
        "print(f\"\\nMissing values after handling basement columns: {df.isnull().sum().sum()}\")\n"
      ]
    },
    {
      "cell_type": "markdown",
      "metadata": {},
      "source": [
        "### 2.3 Handle garage-related missing values\n"
      ]
    },
    {
      "cell_type": "code",
      "execution_count": 35,
      "metadata": {},
      "outputs": [
        {
          "name": "stdout",
          "output_type": "stream",
          "text": [
            "Filled GarageType missing values with 'None'\n",
            "Filled GarageFinish missing values with 'None'\n",
            "Filled GarageQual missing values with 'None'\n",
            "Filled GarageCond missing values with 'None'\n",
            "Filled GarageYrBlt missing values with 0\n",
            "\n",
            "Missing values after handling garage columns: 1830\n"
          ]
        }
      ],
      "source": [
        "# Garage columns - missing likely means no garage\n",
        "garage_cols = ['GarageType', 'GarageFinish', 'GarageQual', 'GarageCond']\n",
        "\n",
        "for col in garage_cols:\n",
        "    if col in df.columns:\n",
        "        df[col] = df[col].fillna('None')\n",
        "        print(f\"Filled {col} missing values with 'None'\")\n",
        "\n",
        "# GarageYrBlt - fill with 0 to indicate no garage\n",
        "if 'GarageYrBlt' in df.columns:\n",
        "    df['GarageYrBlt'] = df['GarageYrBlt'].fillna(0)\n",
        "    print(\"Filled GarageYrBlt missing values with 0\")\n",
        "\n",
        "print(f\"\\nMissing values after handling garage columns: {df.isnull().sum().sum()}\")\n"
      ]
    },
    {
      "cell_type": "markdown",
      "metadata": {},
      "source": [
        "### 2.4 Handle fireplace and masonry veneer missing values\n"
      ]
    },
    {
      "cell_type": "code",
      "execution_count": 36,
      "metadata": {},
      "outputs": [
        {
          "name": "stdout",
          "output_type": "stream",
          "text": [
            "Filled FireplaceQu missing values with 'None'\n",
            "Filled MasVnrType missing values with 'None'\n",
            "Filled MasVnrArea missing values with 0\n",
            "\n",
            "Missing values after handling fireplace and masonry columns: 260\n"
          ]
        }
      ],
      "source": [
        "# FireplaceQu - missing means no fireplace\n",
        "if 'FireplaceQu' in df.columns:\n",
        "    df['FireplaceQu'] = df['FireplaceQu'].fillna('None')\n",
        "    print(\"Filled FireplaceQu missing values with 'None'\")\n",
        "\n",
        "# MasVnrType and MasVnrArea - missing likely means no masonry veneer\n",
        "if 'MasVnrType' in df.columns:\n",
        "    df['MasVnrType'] = df['MasVnrType'].fillna('None')\n",
        "    print(\"Filled MasVnrType missing values with 'None'\")\n",
        "\n",
        "if 'MasVnrArea' in df.columns:\n",
        "    df['MasVnrArea'] = df['MasVnrArea'].fillna(0)\n",
        "    print(\"Filled MasVnrArea missing values with 0\")\n",
        "\n",
        "print(f\"\\nMissing values after handling fireplace and masonry columns: {df.isnull().sum().sum()}\")\n"
      ]
    },
    {
      "cell_type": "markdown",
      "metadata": {},
      "source": [
        "### 2.5 Handle remaining missing values\n"
      ]
    },
    {
      "cell_type": "code",
      "execution_count": 37,
      "metadata": {},
      "outputs": [
        {
          "name": "stdout",
          "output_type": "stream",
          "text": [
            "Filled LotFrontage missing values with neighborhood median\n",
            "Filled Electrical missing values with mode: SBrkr\n",
            "\n",
            "Final missing values count: 0\n"
          ]
        }
      ],
      "source": [
        "# LotFrontage - fill with median by neighborhood\n",
        "if 'LotFrontage' in df.columns:\n",
        "    df['LotFrontage'] = df.groupby('Neighborhood')['LotFrontage'].transform(\n",
        "        lambda x: x.fillna(x.median())\n",
        "    )\n",
        "    print(\"Filled LotFrontage missing values with neighborhood median\")\n",
        "\n",
        "# Electrical - fill with mode (most common value)\n",
        "if 'Electrical' in df.columns:\n",
        "    mode_electrical = df['Electrical'].mode()[0]\n",
        "    df['Electrical'] = df['Electrical'].fillna(mode_electrical)\n",
        "    print(f\"Filled Electrical missing values with mode: {mode_electrical}\")\n",
        "\n",
        "print(f\"\\nFinal missing values count: {df.isnull().sum().sum()}\")\n"
      ]
    },
    {
      "cell_type": "markdown",
      "metadata": {},
      "source": [
        "## 3. Outlier Detection and Handling\n"
      ]
    },
    {
      "cell_type": "code",
      "execution_count": 38,
      "metadata": {},
      "outputs": [
        {
          "name": "stdout",
          "output_type": "stream",
          "text": [
            "GrLivArea: 31 outliers detected\n",
            "LotArea: 69 outliers detected\n",
            "TotalBsmtSF: 61 outliers detected\n",
            "SalePrice: 61 outliers detected\n",
            "\n",
            "Total outlier summary: {'GrLivArea': 31, 'LotArea': 69, 'TotalBsmtSF': 61, 'SalePrice': 61}\n"
          ]
        }
      ],
      "source": [
        "# Function to detect outliers using IQR method\n",
        "def detect_outliers_iqr(data, column):\n",
        "    Q1 = data[column].quantile(0.25)\n",
        "    Q3 = data[column].quantile(0.75)\n",
        "    IQR = Q3 - Q1\n",
        "    lower_bound = Q1 - 1.5 * IQR\n",
        "    upper_bound = Q3 + 1.5 * IQR\n",
        "    \n",
        "    outliers = data[(data[column] < lower_bound) | (data[column] > upper_bound)]\n",
        "    return outliers.index.tolist()\n",
        "\n",
        "# Detect outliers in important columns\n",
        "important_cols = ['GrLivArea', 'LotArea', 'TotalBsmtSF', 'SalePrice']\n",
        "outlier_summary = {}\n",
        "\n",
        "for col in important_cols:\n",
        "    if col in df.columns:\n",
        "        outliers = detect_outliers_iqr(df, col)\n",
        "        outlier_summary[col] = len(outliers)\n",
        "        print(f\"{col}: {len(outliers)} outliers detected\")\n",
        "\n",
        "print(f\"\\nTotal outlier summary: {outlier_summary}\")\n"
      ]
    },
    {
      "cell_type": "code",
      "execution_count": 39,
      "metadata": {},
      "outputs": [
        {
          "name": "stdout",
          "output_type": "stream",
          "text": [
            "Applying statistical outlier removal...\n",
            "Using conservative approach: removing only extreme outliers (Q1-3*IQR, Q3+3*IQR)\n",
            "\n",
            "GrLivArea:\n",
            "  Bounds: [-812, 3718]\n",
            "  Found 4 extreme outliers\n",
            "\n",
            "LotArea:\n",
            "  Bounds: [-4609, 23736]\n",
            "  Found 32 extreme outliers\n",
            "\n",
            "TotalBsmtSF:\n",
            "  Bounds: [-656, 2725]\n",
            "  Found 3 extreme outliers\n",
            "\n",
            "SalePrice:\n",
            "  Bounds: [-117000, 457000]\n",
            "  Found 8 extreme outliers\n",
            "\n",
            "=== OUTLIER REMOVAL SUMMARY ===\n",
            "Initial dataset: 1460 rows\n",
            "Final dataset: 1413 rows\n",
            "Total outliers removed: 47\n",
            "Outliers removed by column:\n",
            "  GrLivArea: 4\n",
            "  LotArea: 32\n",
            "  TotalBsmtSF: 3\n",
            "  SalePrice: 8\n"
          ]
        }
      ],
      "source": [
        "# Apply statistical outlier removal using modified IQR method\n",
        "print(\"Applying statistical outlier removal...\")\n",
        "print(\"Using conservative approach: removing only extreme outliers (Q1-3*IQR, Q3+3*IQR)\")\n",
        "\n",
        "initial_shape = df.shape[0]\n",
        "outliers_removed_summary = {}\n",
        "\n",
        "# Define columns for outlier removal\n",
        "outlier_cols = ['GrLivArea', 'LotArea', 'TotalBsmtSF', 'SalePrice']\n",
        "\n",
        "for col in outlier_cols:\n",
        "    if col in df.columns:\n",
        "        Q1 = df[col].quantile(0.25)\n",
        "        Q3 = df[col].quantile(0.75)\n",
        "        IQR = Q3 - Q1\n",
        "        \n",
        "        # Conservative bounds: Q1-3*IQR and Q3+3*IQR (removes only extreme outliers)\n",
        "        lower_bound = Q1 - 3 * IQR\n",
        "        upper_bound = Q3 + 3 * IQR\n",
        "        \n",
        "        # Identify outliers\n",
        "        outliers_mask = (df[col] < lower_bound) | (df[col] > upper_bound)\n",
        "        outliers_count = outliers_mask.sum()\n",
        "        \n",
        "        if outliers_count > 0:\n",
        "            print(f\"\\n{col}:\")\n",
        "            print(f\"  Bounds: [{lower_bound:.0f}, {upper_bound:.0f}]\")\n",
        "            print(f\"  Found {outliers_count} extreme outliers\")\n",
        "            \n",
        "            # Remove outliers\n",
        "            df = df[~outliers_mask]\n",
        "            outliers_removed_summary[col] = outliers_count\n",
        "\n",
        "final_shape = df.shape[0]\n",
        "total_removed = initial_shape - final_shape\n",
        "\n",
        "print(f\"\\n=== OUTLIER REMOVAL SUMMARY ===\")\n",
        "print(f\"Initial dataset: {initial_shape} rows\")\n",
        "print(f\"Final dataset: {final_shape} rows\") \n",
        "print(f\"Total outliers removed: {total_removed}\")\n",
        "if outliers_removed_summary:\n",
        "    print(\"Outliers removed by column:\")\n",
        "    for col, count in outliers_removed_summary.items():\n",
        "        print(f\"  {col}: {count}\")"
      ]
    },
    {
      "cell_type": "code",
      "execution_count": 40,
      "metadata": {},
      "outputs": [
        {
          "data": {
            "image/png": "[encoded data removed]",
            "text/plain": [
              "<Figure size 1500x1000 with 4 Axes>"
            ]
          },
          "metadata": {},
          "output_type": "display_data"
        },
        {
          "name": "stdout",
          "output_type": "stream",
          "text": [
            "\n",
            "=== POST-OUTLIER REMOVAL STATISTICS ===\n",
            "\n",
            "GrLivArea:\n",
            "  Mean: 1487.91\n",
            "  Median: 1445.00\n",
            "  Std: 479.00\n",
            "  Min: 334.00\n",
            "  Max: 3493.00\n",
            "\n",
            "LotArea:\n",
            "  Mean: 9466.88\n",
            "  Median: 9337.00\n",
            "  Std: 3555.39\n",
            "  Min: 1300.00\n",
            "  Max: 23595.00\n",
            "\n",
            "TotalBsmtSF:\n",
            "  Mean: 1034.10\n",
            "  Median: 980.00\n",
            "  Std: 392.29\n",
            "  Min: 0.00\n",
            "  Max: 2524.00\n",
            "\n",
            "SalePrice:\n",
            "  Mean: 176130.48\n",
            "  Median: 160000.00\n",
            "  Std: 69518.74\n",
            "  Min: 34900.00\n",
            "  Max: 451950.00\n"
          ]
        }
      ],
      "source": [
        "# Visualize outlier removal impact\n",
        "import matplotlib.pyplot as plt\n",
        "import seaborn as sns\n",
        "\n",
        "fig, axes = plt.subplots(2, 2, figsize=(15, 10))\n",
        "fig.suptitle('Distribution After Statistical Outlier Removal', fontsize=16)\n",
        "\n",
        "# Plot distributions for key numeric columns\n",
        "numeric_cols = ['GrLivArea', 'LotArea', 'TotalBsmtSF', 'SalePrice']\n",
        "\n",
        "for i, col in enumerate(numeric_cols):\n",
        "    if col in df.columns:\n",
        "        row = i // 2\n",
        "        col_idx = i % 2\n",
        "        \n",
        "        # Histogram\n",
        "        axes[row, col_idx].hist(df[col], bins=30, alpha=0.7, color='steelblue', edgecolor='black')\n",
        "        axes[row, col_idx].set_title(f'{col} Distribution (After Cleaning)')\n",
        "        axes[row, col_idx].set_xlabel(col)\n",
        "        axes[row, col_idx].set_ylabel('Frequency')\n",
        "\n",
        "plt.tight_layout()\n",
        "plt.show()\n",
        "\n",
        "# Print some basic statistics after outlier removal\n",
        "print(\"\\n=== POST-OUTLIER REMOVAL STATISTICS ===\")\n",
        "for col in numeric_cols:\n",
        "    if col in df.columns:\n",
        "        print(f\"\\n{col}:\")\n",
        "        print(f\"  Mean: {df[col].mean():.2f}\")\n",
        "        print(f\"  Median: {df[col].median():.2f}\")\n",
        "        print(f\"  Std: {df[col].std():.2f}\")\n",
        "        print(f\"  Min: {df[col].min():.2f}\")\n",
        "        print(f\"  Max: {df[col].max():.2f}\")\n"
      ]
    },
    {
      "cell_type": "code",
      "execution_count": 41,
      "metadata": {},
      "outputs": [
        {
          "name": "stdout",
          "output_type": "stream",
          "text": [
            "Applying domain-specific outlier checks...\n",
            "Found 5 houses with extreme prices (<$50k or >$800k)\n",
            "\n",
            "=== DOMAIN-SPECIFIC OUTLIER REMOVAL ===\n",
            "Additional outliers removed: 5\n",
            "Dataset shape after all outlier removal: (1408, 81)\n",
            "Total rows removed in this step: 5\n"
          ]
        }
      ],
      "source": [
        "# Additional domain-specific outlier checks\n",
        "print(\"Applying domain-specific outlier checks...\")\n",
        "\n",
        "domain_outliers_removed = 0\n",
        "initial_domain_shape = df.shape[0]\n",
        "\n",
        "# 1. Unrealistic lot sizes (too large)\n",
        "if 'LotArea' in df.columns:\n",
        "    unrealistic_lots = df[df['LotArea'] > 100000]  # > 2.3 acres is very unusual\n",
        "    if len(unrealistic_lots) > 0:\n",
        "        print(f\"Found {len(unrealistic_lots)} houses with unrealistically large lots (>100,000 sq ft)\")\n",
        "        df = df[df['LotArea'] <= 100000]\n",
        "        domain_outliers_removed += len(unrealistic_lots)\n",
        "\n",
        "# 2. Extreme price outliers (based on domain knowledge)\n",
        "if 'SalePrice' in df.columns:\n",
        "    price_outliers = df[(df['SalePrice'] < 50000) | (df['SalePrice'] > 800000)]\n",
        "    if len(price_outliers) > 0:\n",
        "        print(f\"Found {len(price_outliers)} houses with extreme prices (<$50k or >$800k)\")\n",
        "        df = df[(df['SalePrice'] >= 50000) & (df['SalePrice'] <= 800000)]\n",
        "        domain_outliers_removed += len(price_outliers)\n",
        "\n",
        "# 3. Houses with disproportionate living area to price ratio\n",
        "if 'GrLivArea' in df.columns and 'SalePrice' in df.columns:\n",
        "    # Large houses with very low prices (likely partial sales or data errors)\n",
        "    disproportionate = df[(df['GrLivArea'] > 4000) & (df['SalePrice'] < 300000)]\n",
        "    if len(disproportionate) > 0:\n",
        "        print(f\"Found {len(disproportionate)} houses with disproportionate size/price ratio\")\n",
        "        print(\"Details of disproportionate houses:\")\n",
        "        print(disproportionate[['GrLivArea', 'SalePrice']].to_string())\n",
        "        df = df.drop(disproportionate.index)\n",
        "        domain_outliers_removed += len(disproportionate)\n",
        "\n",
        "final_domain_shape = df.shape[0]\n",
        "print(f\"\\n=== DOMAIN-SPECIFIC OUTLIER REMOVAL ===\")\n",
        "print(f\"Additional outliers removed: {domain_outliers_removed}\")\n",
        "print(f\"Dataset shape after all outlier removal: {df.shape}\")\n",
        "print(f\"Total rows removed in this step: {initial_domain_shape - final_domain_shape}\")\n"
      ]
    },
    {
      "cell_type": "markdown",
      "metadata": {},
      "source": [
        "## Outlier Removal Strategy\n",
        "\n",
        "We applied a two-step outlier removal approach:\n",
        "\n",
        "### 1. Statistical Outlier Removal\n",
        "- **Method**: Conservative IQR approach (Q1-3×IQR, Q3+3×IQR)\n",
        "- **Rationale**: Removes only extreme statistical outliers while preserving data integrity\n",
        "- **Target columns**: GrLivArea, LotArea, TotalBsmtSF, SalePrice\n",
        "\n",
        "### 2. Domain-Specific Outlier Removal  \n",
        "- **Unrealistic lot sizes**: >100,000 sq ft (>2.3 acres)\n",
        "- **Extreme prices**: <$50,000 or >$800,000\n",
        "- **Disproportionate houses**: Large living area (>4,000 sq ft) with very low price (<$300,000)\n",
        "\n",
        "### Result\n",
        "The combination of statistical and domain-specific approaches ensures we remove genuine outliers that could negatively impact model performance while retaining valuable data points that represent legitimate market variations.  "
      ]
    },
    {
      "cell_type": "markdown",
      "metadata": {},
      "source": [
        "## 4. Data Type Optimization\n"
      ]
    },
    {
      "cell_type": "code",
      "execution_count": 42,
      "metadata": {},
      "outputs": [
        {
          "name": "stdout",
          "output_type": "stream",
          "text": [
            "Converting numeric columns to category if they represent categories:\n",
            "  Converted: MSSubClass, OverallQual, OverallCond, MoSold\n",
            "\n",
            "Converting string columns to category for memory efficiency:\n",
            "  Converted 43 columns: MSZoning, Street, Alley, LotShape, LandContour, Utilities, LotConfig, LandSlope, Neighborhood, Condition1, Condition2, BldgType, HouseStyle, RoofStyle, RoofMatl, Exterior1st, Exterior2nd, MasVnrType, ExterQual, ExterCond, Foundation, BsmtQual, BsmtCond, BsmtExposure, BsmtFinType1, BsmtFinType2, Heating, HeatingQC, CentralAir, Electrical, KitchenQual, Functional, FireplaceQu, GarageType, GarageFinish, GarageQual, GarageCond, PavedDrive, PoolQC, Fence, MiscFeature, SaleType, SaleCondition\n"
          ]
        }
      ],
      "source": [
        "print(\"Converting numeric columns to category if they represent categories:\")\n",
        "categorical_numeric = {\n",
        "    'MSSubClass': 'category',\n",
        "    'OverallQual': 'category', \n",
        "    'OverallCond': 'category',\n",
        "    'MoSold': 'category'\n",
        "}\n",
        "\n",
        "converted_cols = []\n",
        "for col, dtype in categorical_numeric.items():\n",
        "    if col in df.columns:\n",
        "        df[col] = df[col].astype(dtype)\n",
        "        converted_cols.append(col)\n",
        "if converted_cols:\n",
        "    print(f\"  Converted: {', '.join(converted_cols)}\")\n",
        "else:\n",
        "    print(\"  No numeric columns converted.\")\n",
        "\n",
        "print(\"\\nConverting string columns to category for memory efficiency:\")\n",
        "object_cols = df.select_dtypes(include=['object']).columns.tolist()\n",
        "if object_cols:\n",
        "    df[object_cols] = df[object_cols].astype('category')\n",
        "    print(f\"  Converted {len(object_cols)} columns: {', '.join(object_cols)}\")\n",
        "else:\n",
        "    print(\"  No string columns to convert.\")\n"
      ]
    },
    {
      "cell_type": "markdown",
      "metadata": {},
      "source": [
        "## 5. Final Data Quality Check\n"
      ]
    },
    {
      "cell_type": "code",
      "execution_count": 43,
      "metadata": {},
      "outputs": [
        {
          "name": "stdout",
          "output_type": "stream",
          "text": [
            "Final missing values: 0\n",
            "✓ No missing values remaining!\n",
            "\n",
            "=== CLEANED DATASET SUMMARY ===\n",
            "Shape: (1408, 81)\n",
            "Missing values: 0\n",
            "Duplicate rows: 0\n"
          ]
        }
      ],
      "source": [
        "# Final missing values check\n",
        "final_missing = df.isnull().sum().sum()\n",
        "print(f\"Final missing values: {final_missing}\")\n",
        "\n",
        "if final_missing > 0:\n",
        "    print(\"\\nRemaining missing values:\")\n",
        "    remaining_missing = df.isnull().sum()\n",
        "    print(remaining_missing[remaining_missing > 0])\n",
        "else:\n",
        "    print(\"✓ No missing values remaining!\")\n",
        "\n",
        "# Final dataset summary\n",
        "print(\"\\n=== CLEANED DATASET SUMMARY ===\")\n",
        "print(f\"Shape: {df.shape}\")\n",
        "print(f\"Missing values: {df.isnull().sum().sum()}\")\n",
        "print(f\"Duplicate rows: {df.duplicated().sum()}\")\n"
      ]
    },
    {
      "cell_type": "markdown",
      "metadata": {},
      "source": [
        "## 6. Save Cleaned Dataset\n"
      ]
    },
    {
      "cell_type": "code",
      "execution_count": 44,
      "metadata": {},
      "outputs": [
        {
          "name": "stdout",
          "output_type": "stream",
          "text": [
            "✓ Cleaned dataset saved to: ../../data/processed/train_cleaned.csv\n",
            "File size: 0.44 MB\n",
            "✓ Cleaned dataset also saved as pickle: ../../data/processed/train_cleaned.pkl\n",
            "Pickle file size: 0.45 MB\n"
          ]
        }
      ],
      "source": [
        "# Create processed data directory if it doesn't exist\n",
        "import os\n",
        "\n",
        "processed_dir = '../../data/processed/'\n",
        "os.makedirs(processed_dir, exist_ok=True)\n",
        "\n",
        "# Save cleaned dataset as CSV\n",
        "output_file = os.path.join(processed_dir, 'train_cleaned.csv')\n",
        "df.to_csv(output_file, index=False)\n",
        "\n",
        "print(f\"✓ Cleaned dataset saved to: {output_file}\")\n",
        "print(f\"File size: {os.path.getsize(output_file) / 1024**2:.2f} MB\")\n",
        "\n",
        "# Also save as pickle for type preservation\n",
        "pkl_file = os.path.join(processed_dir, 'train_cleaned.pkl')\n",
        "df.to_pickle(pkl_file)\n",
        "\n",
        "print(f\"✓ Cleaned dataset also saved as pickle: {pkl_file}\")\n",
        "print(f\"Pickle file size: {os.path.getsize(pkl_file) / 1024**2:.2f} MB\")\n"
      ]
    }
  ],
  "metadata": {
    "kernelspec": {
      "display_name": "venv",
      "language": "python",
      "name": "python3"
    },
    "language_info": {
      "codemirror_mode": {
        "name": "ipython",
        "version": 3
      },
      "file_extension": ".py",
      "mimetype": "text/x-python",
      "name": "python",
      "nbconvert_exporter": "python",
      "pygments_lexer": "ipython3",
      "version": "3.12.3"
    }
  },
  "nbformat": 4,
  "nbformat_minor": 2
}
