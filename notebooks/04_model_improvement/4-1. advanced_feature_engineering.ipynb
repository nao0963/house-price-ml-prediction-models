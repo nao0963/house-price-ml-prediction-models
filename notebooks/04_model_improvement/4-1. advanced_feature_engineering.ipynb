{
  "cells": [
    {
      "cell_type": "markdown",
      "metadata": {},
      "source": [
        "# Advanced Feature Engineering\n",
        "\n",
        "High-impact features to improve within_10pct accuracy based on 03_basic_models results.\n",
        "\n",
        "## Table of Contents\n",
        "1. Advanced Location Features\n",
        "2. Nonlinear Quality-Size Features  \n",
        "3. Advanced Remodeling Features\n",
        "4. Categorical Feature Enhancement\n",
        "5. Feature Selection & Correlation Analysis\n",
        "6. Preprocessing for New Features\n",
        "7. Create Enhanced Datasets\n"
      ]
    },
    {
      "cell_type": "code",
      "execution_count": 10,
      "metadata": {},
      "outputs": [
        {
          "name": "stdout",
          "output_type": "stream",
          "text": [
            "Data shape: (1408, 105)\n",
            "Neighborhood categories: NeighborhoodCategory\n",
            "Middle     706\n",
            "Budget     406\n",
            "Premium    296\n",
            "Name: count, dtype: int64\n"
          ]
        }
      ],
      "source": [
        "import pandas as pd\n",
        "import numpy as np\n",
        "import pickle\n",
        "import warnings\n",
        "warnings.filterwarnings('ignore')\n",
        "\n",
        "\n",
        "# Load original data with all features\n",
        "df = pd.read_pickle('../../data/processed/df_engineered.pkl')\n",
        "print(f\"Data shape: {df.shape}\")\n",
        "print(f\"Neighborhood categories: {df['NeighborhoodCategory'].value_counts()}\")\n"
      ]
    },
    {
      "cell_type": "markdown",
      "metadata": {},
      "source": [
        "## 1. Advanced Location Features\n"
      ]
    },
    {
      "cell_type": "code",
      "execution_count": 11,
      "metadata": {},
      "outputs": [
        {
          "name": "stdout",
          "output_type": "stream",
          "text": [
            "Small sample neighborhoods (2): ['Blueste', 'NPkVill']\n",
            "✓ Location features created\n"
          ]
        }
      ],
      "source": [
        "# Neighborhood statistics with sample size handling\n",
        "neighborhood_stats = df.groupby('Neighborhood').agg({\n",
        "    'SalePrice': ['count', 'mean', 'std', 'median']\n",
        "}).round(0)\n",
        "neighborhood_stats.columns = ['count', 'mean', 'std', 'median']\n",
        "\n",
        "# Handle small sample neighborhoods (< 10 samples)\n",
        "small_neighborhoods = neighborhood_stats[neighborhood_stats['count'] < 10].index\n",
        "category_stats = df.groupby('NeighborhoodCategory')['SalePrice'].agg(['mean', 'std']).round(0)\n",
        "\n",
        "print(f\"Small sample neighborhoods ({len(small_neighborhoods)}): {list(small_neighborhoods)}\")\n",
        "\n",
        "# Create location features\n",
        "for neighborhood in df['Neighborhood'].unique():\n",
        "    if neighborhood in small_neighborhoods:\n",
        "        # Use category stats for small neighborhoods\n",
        "        category = df[df['Neighborhood'] == neighborhood]['NeighborhoodCategory'].iloc[0]\n",
        "        mean_price = category_stats.loc[category, 'mean']\n",
        "        std_price = category_stats.loc[category, 'std']\n",
        "    else:\n",
        "        # Use neighborhood-specific stats\n",
        "        mean_price = neighborhood_stats.loc[neighborhood, 'mean']\n",
        "        std_price = neighborhood_stats.loc[neighborhood, 'std']\n",
        "    \n",
        "    mask = df['Neighborhood'] == neighborhood\n",
        "    df.loc[mask, 'Neighborhood_Mean'] = mean_price\n",
        "    df.loc[mask, 'Neighborhood_Std'] = std_price\n",
        "\n",
        "# Relative value features\n",
        "df['Price_vs_Neighborhood'] = df['SalePrice'] / df['Neighborhood_Mean']\n",
        "df['Neighborhood_ZScore'] = (df['SalePrice'] - df['Neighborhood_Mean']) / (df['Neighborhood_Std'] + 1)\n",
        "\n",
        "# Category premium features\n",
        "category_means = df.groupby('NeighborhoodCategory')['SalePrice'].mean()\n",
        "df['Category_Premium'] = df['NeighborhoodCategory'].astype(str).map(category_means)\n",
        "df['Price_vs_Category'] = df['SalePrice'] / df['Category_Premium']\n",
        "\n",
        "print(\"✓ Location features created\")\n"
      ]
    },
    {
      "cell_type": "markdown",
      "metadata": {},
      "source": [
        "## 2. Nonlinear Quality-Size Features\n"
      ]
    },
    {
      "cell_type": "code",
      "execution_count": 12,
      "metadata": {},
      "outputs": [
        {
          "name": "stdout",
          "output_type": "stream",
          "text": [
            "✓ Nonlinear quality features created\n"
          ]
        }
      ],
      "source": [
        "# Convert categorical columns to numeric\n",
        "qual_numeric = pd.to_numeric(df['OverallQual'], errors='coerce')\n",
        "total_sf_numeric = pd.to_numeric(df['TotalSF'], errors='coerce')\n",
        "grliv_numeric = pd.to_numeric(df['GrLivArea'], errors='coerce')\n",
        "lot_numeric = pd.to_numeric(df['LotArea'], errors='coerce')\n",
        "\n",
        "# Nonlinear quality-size relationships\n",
        "df['Quality_TotalSF_Squared'] = qual_numeric * (total_sf_numeric ** 2)\n",
        "df['Quality_Efficiency'] = (qual_numeric ** 2) / np.log1p(total_sf_numeric)\n",
        "\n",
        "# Premium size effect (luxury homes have exponential value)\n",
        "size_threshold = total_sf_numeric.quantile(0.8)\n",
        "df['Premium_Size_Effect'] = np.where(\n",
        "    total_sf_numeric > size_threshold,\n",
        "    qual_numeric * np.log1p(total_sf_numeric) * 1.5,\n",
        "    qual_numeric * total_sf_numeric\n",
        ")\n",
        "\n",
        "# Quality interaction with area efficiency\n",
        "df['Quality_Area_Efficiency'] = qual_numeric * (grliv_numeric / lot_numeric)\n",
        "\n",
        "print(\"✓ Nonlinear quality features created\")\n"
      ]
    },
    {
      "cell_type": "markdown",
      "metadata": {},
      "source": [
        "## 3. Advanced Remodeling Features\n"
      ]
    },
    {
      "cell_type": "code",
      "execution_count": 13,
      "metadata": {},
      "outputs": [
        {
          "name": "stdout",
          "output_type": "stream",
          "text": [
            "✓ Remodeling features created\n"
          ]
        }
      ],
      "source": [
        "# Convert columns to numeric\n",
        "yr_sold = pd.to_numeric(df['YrSold'], errors='coerce')\n",
        "year_remod = pd.to_numeric(df['YearRemodAdd'], errors='coerce')\n",
        "year_built = pd.to_numeric(df['YearBuilt'], errors='coerce')\n",
        "house_age = pd.to_numeric(df['HouseAge'], errors='coerce')\n",
        "\n",
        "# Remodeling impact analysis\n",
        "df['Years_Since_Remodel'] = yr_sold - year_remod\n",
        "df['Remodel_Impact'] = np.where(\n",
        "    year_remod > year_built,\n",
        "    (year_remod - year_built) / (house_age + 1),\n",
        "    0\n",
        ")\n",
        "\n",
        "# Recent remodeling premium\n",
        "df['Recent_Remodel_Bonus'] = np.where(df['Years_Since_Remodel'] < 5, 1.2, 1.0)\n",
        "df['Remodel_Quality_Boost'] = df['Remodel_Impact'] * qual_numeric * df['Recent_Remodel_Bonus']\n",
        "\n",
        "# Age vs remodeling interaction\n",
        "df['Age_Remodel_Balance'] = qual_numeric / (house_age + 1) * (1 + df['Remodel_Impact'])\n",
        "\n",
        "print(\"✓ Remodeling features created\")\n"
      ]
    },
    {
      "cell_type": "markdown",
      "metadata": {},
      "source": [
        "## 4. Categorical Feature Enhancement\n"
      ]
    },
    {
      "cell_type": "code",
      "execution_count": 14,
      "metadata": {},
      "outputs": [
        {
          "name": "stdout",
          "output_type": "stream",
          "text": [
            "Converting discrete features to categorical...\n",
            "FullBath categories: {'2_Bath': 743, '1_Bath': 636, '3+_Bath': 22, '0_Bath': 7}\n",
            "Fireplaces categories: {'No_Fireplace': 678, '1_Fireplace': 633, '2+_Fireplace': 97}\n",
            "Rooms categories: {'Medium_6-7': 715, 'Small_5-': 379, 'Large_8-9': 252, 'XLarge_10+': 62}\n",
            "✓ Categorical features created\n"
          ]
        }
      ],
      "source": [
        "# Convert discrete numeric features to categorical\n",
        "print(\"Converting discrete features to categorical...\")\n",
        "\n",
        "# FullBath categories\n",
        "df['FullBath_Cat'] = pd.cut(\n",
        "    pd.to_numeric(df['FullBath'], errors='coerce'),\n",
        "    bins=[-0.5, 0.5, 1.5, 2.5, float('inf')],\n",
        "    labels=['0_Bath', '1_Bath', '2_Bath', '3+_Bath']\n",
        ").astype(str)\n",
        "\n",
        "# Fireplaces categories  \n",
        "df['Fireplaces_Cat'] = pd.cut(\n",
        "    pd.to_numeric(df['Fireplaces'], errors='coerce'),\n",
        "    bins=[-0.5, 0.5, 1.5, float('inf')], \n",
        "    labels=['No_Fireplace', '1_Fireplace', '2+_Fireplace']\n",
        ").astype(str)\n",
        "\n",
        "# TotRmsAbvGrd categories (room count)\n",
        "df['Rooms_Cat'] = pd.cut(\n",
        "    pd.to_numeric(df['TotRmsAbvGrd'], errors='coerce'),\n",
        "    bins=[0, 5, 7, 9, float('inf')],\n",
        "    labels=['Small_5-', 'Medium_6-7', 'Large_8-9', 'XLarge_10+']\n",
        ").astype(str)\n",
        "\n",
        "print(f\"FullBath categories: {df['FullBath_Cat'].value_counts().to_dict()}\")\n",
        "print(f\"Fireplaces categories: {df['Fireplaces_Cat'].value_counts().to_dict()}\")\n",
        "print(f\"Rooms categories: {df['Rooms_Cat'].value_counts().to_dict()}\")\n",
        "print(\"✓ Categorical features created\")\n"
      ]
    },
    {
      "cell_type": "markdown",
      "metadata": {},
      "source": [
        "## 5. Feature Selection & Correlation Analysis\n"
      ]
    },
    {
      "cell_type": "code",
      "execution_count": 15,
      "metadata": {},
      "outputs": [
        {
          "name": "stdout",
          "output_type": "stream",
          "text": [
            "New features correlation with SalePrice:\n",
            "Quality_TotalSF_Squared  : 0.887\n",
            "Quality_Efficiency       : 0.801\n",
            "Price_vs_Category        : 0.727\n",
            "Price_vs_Neighborhood    : 0.635\n",
            "Neighborhood_ZScore      : 0.629\n",
            "Age_Remodel_Balance      : 0.610\n",
            "Recent_Remodel_Bonus     : 0.401\n",
            "Quality_Area_Efficiency  : 0.260\n",
            "Remodel_Quality_Boost    : -0.045\n",
            "Remodel_Impact           : -0.160\n",
            "Premium_Size_Effect      : -0.217\n",
            "\n",
            "Selected new features (|corr| > 0.3): 7\n",
            "['Quality_TotalSF_Squared', 'Quality_Efficiency', 'Price_vs_Category', 'Price_vs_Neighborhood', 'Neighborhood_ZScore', 'Age_Remodel_Balance', 'Recent_Remodel_Bonus']\n"
          ]
        }
      ],
      "source": [
        "# New features correlation with SalePrice\n",
        "new_features = [\n",
        "    'Price_vs_Neighborhood', 'Neighborhood_ZScore', 'Price_vs_Category',\n",
        "    'Quality_TotalSF_Squared', 'Quality_Efficiency', 'Premium_Size_Effect', 'Quality_Area_Efficiency',\n",
        "    'Remodel_Impact', 'Recent_Remodel_Bonus', 'Remodel_Quality_Boost', 'Age_Remodel_Balance'\n",
        "]\n",
        "\n",
        "correlations = df[new_features + ['SalePrice']].corr()['SalePrice'].drop('SalePrice').sort_values(ascending=False)\n",
        "print(\"New features correlation with SalePrice:\")\n",
        "for feature, corr in correlations.items():\n",
        "    print(f\"{feature:25s}: {corr:.3f}\")\n",
        "\n",
        "# Select top performing new features\n",
        "top_new_features = correlations[correlations.abs() > 0.3].index.tolist()\n",
        "print(f\"\\nSelected new features (|corr| > 0.3): {len(top_new_features)}\")\n",
        "print(top_new_features)\n"
      ]
    },
    {
      "cell_type": "markdown",
      "metadata": {},
      "source": [
        "## 6. Preprocessing for New Features\n"
      ]
    },
    {
      "cell_type": "code",
      "execution_count": 16,
      "metadata": {},
      "outputs": [
        {
          "name": "stdout",
          "output_type": "stream",
          "text": [
            "Categorical features: ['FullBath_Cat', 'Fireplaces_Cat', 'Rooms_Cat']\n",
            "New numeric features: ['Quality_TotalSF_Squared', 'Quality_Efficiency', 'Price_vs_Category', 'Price_vs_Neighborhood', 'Neighborhood_ZScore', 'Age_Remodel_Balance', 'Recent_Remodel_Bonus']\n",
            "Feature counts: Categorical=3 | Numeric=7 | One-hot=8\n",
            "✓ Preprocessing completed (One-hot for Linear/Ridge, Label encoding for RF)\n"
          ]
        }
      ],
      "source": [
        "from sklearn.preprocessing import StandardScaler, OneHotEncoder\n",
        "import pandas as pd\n",
        "\n",
        "# Define feature groups\n",
        "categorical_features = ['FullBath_Cat', 'Fireplaces_Cat', 'Rooms_Cat']\n",
        "new_numeric_features = [f for f in top_new_features if f not in categorical_features]\n",
        "\n",
        "print(f\"Categorical features: {categorical_features}\")\n",
        "print(f\"New numeric features: {new_numeric_features}\")\n",
        "\n",
        "# Simple preprocessing\n",
        "df_processed = df.copy()\n",
        "\n",
        "# 1. One-hot encode categorical features for linear models\n",
        "onehot_columns = []\n",
        "for cat_feature in categorical_features:\n",
        "    if cat_feature in df_processed.columns:\n",
        "        # One-hot encoding\n",
        "        dummies = pd.get_dummies(df_processed[cat_feature], prefix=cat_feature, drop_first=True)\n",
        "        df_processed = pd.concat([df_processed, dummies], axis=1)\n",
        "        onehot_columns.extend(dummies.columns.tolist())\n",
        "\n",
        "# 2. Label encode categorical features for random forest models\n",
        "from sklearn.preprocessing import LabelEncoder\n",
        "df_rf_processed = df_processed.copy()\n",
        "for col in categorical_features:\n",
        "    if col in df_rf_processed.columns:\n",
        "        le = LabelEncoder()\n",
        "        df_rf_processed[col] = le.fit_transform(df_rf_processed[col].astype(str))\n",
        "\n",
        "# 3. Handle infinite values in new numeric features\n",
        "for feature in new_numeric_features:\n",
        "    if feature in df_processed.columns:\n",
        "        # Replace inf with very large finite values\n",
        "        df_processed[feature] = df_processed[feature].replace([np.inf, -np.inf], [1e10, -1e10])\n",
        "        # Fill any remaining NaN with median\n",
        "        df_processed[feature] = df_processed[feature].fillna(df_processed[feature].median())\n",
        "\n",
        "\n",
        "# preprocessing summary\n",
        "print(f\"Feature counts: Categorical={len(categorical_features)} | Numeric={len(new_numeric_features)} | One-hot={len(onehot_columns)}\")\n",
        "print(\"✓ Preprocessing completed (One-hot for Linear/Ridge, Label encoding for RF)\")\n"
      ]
    },
    {
      "cell_type": "markdown",
      "metadata": {},
      "source": [
        "## 7. Create Enhanced Datasets\n"
      ]
    },
    {
      "cell_type": "code",
      "execution_count": 17,
      "metadata": {},
      "outputs": [
        {
          "name": "stdout",
          "output_type": "stream",
          "text": [
            "Linear/Ridge model features: 36\n",
            "Random Forest features: 31\n",
            "Linear dataset shape: (1408, 36)\n",
            "Ridge dataset shape: (1408, 36)\n",
            "Random Forest dataset shape: (1408, 31)\n",
            "✓ Enhanced datasets saved for all three model types\n"
          ]
        }
      ],
      "source": [
        "# Create datasets for different model types\n",
        "original_features = [\n",
        "    'Quality_x_TotalSF', 'Garage_x_Quality', 'Bath_x_Area', 'GrLivArea', 'GarageArea',\n",
        "    'YearBuilt', 'EffectiveAge', 'MasVnrArea', 'HouseAge', 'GarageCars', 'TotalSF', \n",
        "    'Quality_x_Area', '1stFlrSF', 'TotalBathrooms', 'TotalBsmtSF', 'AvgRoomSize', \n",
        "    'YearRemodAdd', 'LotArea', 'TotalPorchSF', 'BsmtFinSF1', 'OpenPorchSF'\n",
        "]\n",
        "\n",
        "# Linear/Ridge model features (one-hot encoded categorical + numeric)\n",
        "linear_features = original_features + new_numeric_features + onehot_columns\n",
        "\n",
        "# Random Forest features (original categorical + numeric)\n",
        "rf_features = original_features + new_numeric_features + categorical_features\n",
        "\n",
        "# Create datasets with appropriate preprocessing\n",
        "X_linear = df_processed[linear_features].copy()\n",
        "X_ridge = X_linear.copy()  # Ridge uses same features as Linear  \n",
        "X_rf = df_rf_processed[rf_features].copy()  # Use label-encoded version for RF\n",
        "\n",
        "# Prepare target variable (both original and log-transformed)\n",
        "y = df_processed['SalePrice'].copy()\n",
        "y_log = np.log1p(y)\n",
        "\n",
        "print(f\"Linear/Ridge model features: {len(linear_features)}\")\n",
        "print(f\"Random Forest features: {len(rf_features)}\")\n",
        "print(f\"Linear dataset shape: {X_linear.shape}\")\n",
        "print(f\"Ridge dataset shape: {X_ridge.shape}\")\n",
        "print(f\"Random Forest dataset shape: {X_rf.shape}\")\n",
        "\n",
        "# Save enhanced datasets to dedicated directory\n",
        "X_linear.to_pickle('../../data/enhanced/df_enhanced_linear.pkl')\n",
        "X_ridge.to_pickle('../../data/enhanced/df_enhanced_ridge.pkl')\n",
        "X_rf.to_pickle('../../data/enhanced/df_enhanced_rf.pkl')\n",
        "y.to_pickle('../../data/enhanced/y_enhanced.pkl')\n",
        "y_log.to_pickle('../../data/enhanced/y_enhanced_log.pkl')\n",
        "\n",
        "print(\"✓ Enhanced datasets saved for all three model types\")\n"
      ]
    }
  ],
  "metadata": {
    "kernelspec": {
      "display_name": "venv",
      "language": "python",
      "name": "python3"
    },
    "language_info": {
      "codemirror_mode": {
        "name": "ipython",
        "version": 3
      },
      "file_extension": ".py",
      "mimetype": "text/x-python",
      "name": "python",
      "nbconvert_exporter": "python",
      "pygments_lexer": "ipython3",
      "version": "3.12.3"
    }
  },
  "nbformat": 4,
  "nbformat_minor": 2
}
