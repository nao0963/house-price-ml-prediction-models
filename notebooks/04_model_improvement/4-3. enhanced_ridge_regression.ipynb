{
  "cells": [
    {
      "cell_type": "markdown",
      "metadata": {},
      "source": [
        "# Enhanced Ridge Regression\n",
        "\n",
        "Using advanced features with L2 regularization.\n"
      ]
    },
    {
      "cell_type": "code",
      "execution_count": 1,
      "metadata": {},
      "outputs": [
        {
          "name": "stdout",
          "output_type": "stream",
          "text": [
            "Enhanced dataset: (1408, 36)\n",
            "Features: 36\n"
          ]
        }
      ],
      "source": [
        "import pandas as pd\n",
        "import numpy as np\n",
        "from sklearn.linear_model import Ridge\n",
        "from sklearn.model_selection import train_test_split, cross_val_score, KFold\n",
        "from sklearn.preprocessing import StandardScaler\n",
        "from sklearn.metrics import mean_squared_error, mean_absolute_error, r2_score\n",
        "import warnings\n",
        "warnings.filterwarnings('ignore')\n",
        "\n",
        "# Load enhanced data\n",
        "X = pd.read_pickle('../../data/enhanced/df_enhanced_ridge.pkl')\n",
        "y_log = pd.read_pickle('../../data/enhanced/y_enhanced_log.pkl')\n",
        "\n",
        "print(f\"Enhanced dataset: {X.shape}\")\n",
        "print(f\"Features: {X.shape[1]}\")\n"
      ]
    },
    {
      "cell_type": "code",
      "execution_count": 2,
      "metadata": {},
      "outputs": [
        {
          "name": "stdout",
          "output_type": "stream",
          "text": [
            "Training set: (1126, 36)\n",
            "Test set: (282, 36)\n"
          ]
        }
      ],
      "source": [
        "# Prepare data\n",
        "X_train, X_test, y_train_log, y_test_log = train_test_split(X, y_log, test_size=0.2, random_state=42)\n",
        "\n",
        "# Standardize features\n",
        "scaler = StandardScaler()\n",
        "X_train_scaled = scaler.fit_transform(X_train)\n",
        "X_test_scaled = scaler.transform(X_test)\n",
        "\n",
        "print(f\"Training set: {X_train_scaled.shape}\")\n",
        "print(f\"Test set: {X_test_scaled.shape}\")\n"
      ]
    },
    {
      "cell_type": "code",
      "execution_count": 3,
      "metadata": {},
      "outputs": [
        {
          "name": "stdout",
          "output_type": "stream",
          "text": [
            "Cross Validation (log scale):\n",
            "RMSE: 0.1178 (±0.0071)\n",
            "MAE:  0.0854 (±0.0063)\n",
            "R²:   0.8984 (±0.0122)\n",
            "\n",
            "Original scale:\n",
            "RMSE: $0\n",
            "MAE:  $0\n"
          ]
        }
      ],
      "source": [
        "# Train model and cross validation\n",
        "model = Ridge(alpha=1.0, random_state=42)\n",
        "kf = KFold(n_splits=5, shuffle=True, random_state=42)\n",
        "\n",
        "cv_rmse = np.sqrt(-cross_val_score(model, X_train_scaled, y_train_log, cv=kf, scoring='neg_mean_squared_error'))\n",
        "cv_mae = -cross_val_score(model, X_train_scaled, y_train_log, cv=kf, scoring='neg_mean_absolute_error')\n",
        "cv_r2 = cross_val_score(model, X_train_scaled, y_train_log, cv=kf, scoring='r2')\n",
        "\n",
        "print(\"Cross Validation (log scale):\")\n",
        "print(f\"RMSE: {cv_rmse.mean():.4f} (±{cv_rmse.std():.4f})\")\n",
        "print(f\"MAE:  {cv_mae.mean():.4f} (±{cv_mae.std():.4f})\")\n",
        "print(f\"R²:   {cv_r2.mean():.4f} (±{cv_r2.std():.4f})\")\n",
        "\n",
        "# Convert to original scale\n",
        "cv_rmse_orig = np.expm1(cv_rmse.mean())\n",
        "cv_mae_orig = np.expm1(cv_mae.mean())\n",
        "print(f\"\\nOriginal scale:\")\n",
        "print(f\"RMSE: ${cv_rmse_orig:,.0f}\")\n",
        "print(f\"MAE:  ${cv_mae_orig:,.0f}\")\n"
      ]
    },
    {
      "cell_type": "code",
      "execution_count": 4,
      "metadata": {},
      "outputs": [
        {
          "name": "stdout",
          "output_type": "stream",
          "text": [
            "Test Set Performance:\n",
            "RMSE (log): 0.1110\n",
            "MAE (log):  0.0782\n",
            "R²:         0.9121\n",
            "RMSE:       $20,961\n",
            "MAE:        $14,200\n",
            "Within 10%: 71.6%\n",
            "Within 20%: 94.0%\n"
          ]
        }
      ],
      "source": [
        "# Test set performance\n",
        "model.fit(X_train_scaled, y_train_log)\n",
        "y_pred_log = model.predict(X_test_scaled)\n",
        "\n",
        "test_rmse_log = np.sqrt(mean_squared_error(y_test_log, y_pred_log))\n",
        "test_mae_log = mean_absolute_error(y_test_log, y_pred_log)\n",
        "test_r2 = r2_score(y_test_log, y_pred_log)\n",
        "\n",
        "y_test_orig = np.expm1(y_test_log)\n",
        "y_pred_orig = np.expm1(y_pred_log)\n",
        "test_rmse_orig = np.sqrt(mean_squared_error(y_test_orig, y_pred_orig))\n",
        "test_mae_orig = mean_absolute_error(y_test_orig, y_pred_orig)\n",
        "\n",
        "# Prediction accuracy\n",
        "errors = np.abs(y_pred_orig - y_test_orig) / y_test_orig\n",
        "within_10pct = (errors <= 0.10).mean() * 100\n",
        "within_20pct = (errors <= 0.20).mean() * 100\n",
        "\n",
        "print(\"Test Set Performance:\")\n",
        "print(f\"RMSE (log): {test_rmse_log:.4f}\")\n",
        "print(f\"MAE (log):  {test_mae_log:.4f}\")\n",
        "print(f\"R²:         {test_r2:.4f}\")\n",
        "print(f\"RMSE:       ${test_rmse_orig:,.0f}\")\n",
        "print(f\"MAE:        ${test_mae_orig:,.0f}\")\n",
        "print(f\"Within 10%: {within_10pct:.1f}%\")\n",
        "print(f\"Within 20%: {within_20pct:.1f}%\")\n"
      ]
    },
    {
      "cell_type": "code",
      "execution_count": 5,
      "metadata": {},
      "outputs": [
        {
          "name": "stdout",
          "output_type": "stream",
          "text": [
            "✓ Enhanced Ridge Regression completed\n"
          ]
        }
      ],
      "source": [
        "# Save results\n",
        "enhanced_ridge_results = {\n",
        "    'model_name': 'Enhanced Ridge Regression',\n",
        "    'cv_rmse_log': cv_rmse.mean(),\n",
        "    'cv_mae_log': cv_mae.mean(),\n",
        "    'cv_r2': cv_r2.mean(),\n",
        "    'cv_rmse_original': cv_rmse_orig,\n",
        "    'cv_mae_original': cv_mae_orig,\n",
        "    'test_rmse_log': test_rmse_log,\n",
        "    'test_mae_log': test_mae_log,\n",
        "    'test_r2': test_r2,\n",
        "    'test_rmse_original': test_rmse_orig,\n",
        "    'test_mae_original': test_mae_orig,\n",
        "    'within_10pct': within_10pct,\n",
        "    'within_20pct': within_20pct\n",
        "}\n",
        "\n",
        "import os\n",
        "os.makedirs('../../models/enhanced/', exist_ok=True)\n",
        "import pickle\n",
        "with open('../../models/enhanced/ridge_results.pkl', 'wb') as f:\n",
        "    pickle.dump(enhanced_ridge_results, f)\n",
        "\n",
        "print(\"✓ Enhanced Ridge Regression completed\")\n"
      ]
    }
  ],
  "metadata": {
    "kernelspec": {
      "display_name": "venv",
      "language": "python",
      "name": "python3"
    },
    "language_info": {
      "codemirror_mode": {
        "name": "ipython",
        "version": 3
      },
      "file_extension": ".py",
      "mimetype": "text/x-python",
      "name": "python",
      "nbconvert_exporter": "python",
      "pygments_lexer": "ipython3",
      "version": "3.12.3"
    }
  },
  "nbformat": 4,
  "nbformat_minor": 2
}
