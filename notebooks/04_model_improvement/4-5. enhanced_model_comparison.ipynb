{
  "cells": [
    {
      "cell_type": "markdown",
      "metadata": {},
      "source": [
        "# Enhanced Model Comparison\n",
        "\n",
        "Comparing enhanced models with advanced features.\n"
      ]
    },
    {
      "cell_type": "code",
      "execution_count": 1,
      "metadata": {},
      "outputs": [
        {
          "name": "stdout",
          "output_type": "stream",
          "text": [
            "✓ All enhanced model results loaded\n"
          ]
        }
      ],
      "source": [
        "import pandas as pd\n",
        "import numpy as np\n",
        "import pickle\n",
        "import warnings\n",
        "warnings.filterwarnings('ignore')\n",
        "\n",
        "# Load enhanced model results\n",
        "results_dir = '../../models/enhanced/'\n",
        "\n",
        "try:\n",
        "    with open(f'{results_dir}/linear_results.pkl', 'rb') as f:\n",
        "        linear_results = pickle.load(f)\n",
        "    with open(f'{results_dir}/ridge_results.pkl', 'rb') as f:\n",
        "        ridge_results = pickle.load(f)\n",
        "    with open(f'{results_dir}/random_forest_results.pkl', 'rb') as f:\n",
        "        rf_results = pickle.load(f)\n",
        "    \n",
        "    print(\"✓ All enhanced model results loaded\")\n",
        "    \n",
        "except FileNotFoundError as e:\n",
        "    print(f\"⚠️ Missing results file: {e}\")\n",
        "    print(\"Please run notebooks 4-2, 4-3, and 4-4 first\")\n"
      ]
    },
    {
      "cell_type": "code",
      "execution_count": 2,
      "metadata": {},
      "outputs": [
        {
          "name": "stdout",
          "output_type": "stream",
          "text": [
            "=== ENHANCED MODEL PERFORMANCE COMPARISON ===\n",
            "\n",
            "1. Cross Validation Performance:\n",
            "Model                     RMSE(log)    MAE(log)     R²           RMSE($)      MAE($)      \n",
            "-------------------------------------------------------------------------------------\n",
            "Enhanced Linear Regression 0.1176       0.0854       0.8988       $0           $0          \n",
            "Enhanced Ridge Regression 0.1178       0.0854       0.8984       $0           $0          \n",
            "Enhanced Random Forest    0.1107       0.0736       0.9102       $0           $0          \n",
            "\n",
            "2. Test Set Performance:\n",
            "Model                     RMSE(log)    MAE(log)     R²           RMSE($)      MAE($)      \n",
            "-------------------------------------------------------------------------------------\n",
            "Enhanced Linear Regression 0.1109       0.0784       0.9123       $20,920      $14,257     \n",
            "Enhanced Ridge Regression 0.1110       0.0782       0.9121       $20,961      $14,200     \n",
            "Enhanced Random Forest    0.1102       0.0678       0.9134       $21,854      $12,528     \n",
            "\n",
            "3. Prediction Accuracy:\n",
            "Model                     Within 10%   Within 20%  \n",
            "--------------------------------------------------\n",
            "Enhanced Linear Regression 72.0        % 94.0        %\n",
            "Enhanced Ridge Regression 71.6        % 94.0        %\n",
            "Enhanced Random Forest    79.1        % 92.2        %\n"
          ]
        }
      ],
      "source": [
        "# Performance comparison\n",
        "enhanced_comparison = pd.DataFrame([linear_results, ridge_results, rf_results])\n",
        "\n",
        "print(\"=== ENHANCED MODEL PERFORMANCE COMPARISON ===\")\n",
        "print(\"\\n1. Cross Validation Performance:\")\n",
        "print(f\"{'Model':<25} {'RMSE(log)':<12} {'MAE(log)':<12} {'R²':<12} {'RMSE($)':<12} {'MAE($)':<12}\")\n",
        "print(\"-\" * 85)\n",
        "\n",
        "for _, row in enhanced_comparison.iterrows():\n",
        "    print(f\"{row['model_name']:<25} \"\n",
        "          f\"{row['cv_rmse_log']:<12.4f} \"\n",
        "          f\"{row['cv_mae_log']:<12.4f} \"\n",
        "          f\"{row['cv_r2']:<12.4f} \"\n",
        "          f\"${row['cv_rmse_original']:<11,.0f} \"\n",
        "          f\"${row['cv_mae_original']:<11,.0f}\")\n",
        "\n",
        "print(\"\\n2. Test Set Performance:\")\n",
        "print(f\"{'Model':<25} {'RMSE(log)':<12} {'MAE(log)':<12} {'R²':<12} {'RMSE($)':<12} {'MAE($)':<12}\")\n",
        "print(\"-\" * 85)\n",
        "\n",
        "for _, row in enhanced_comparison.iterrows():\n",
        "    print(f\"{row['model_name']:<25} \"\n",
        "          f\"{row['test_rmse_log']:<12.4f} \"\n",
        "          f\"{row['test_mae_log']:<12.4f} \"\n",
        "          f\"{row['test_r2']:<12.4f} \"\n",
        "          f\"${row['test_rmse_original']:<11,.0f} \"\n",
        "          f\"${row['test_mae_original']:<11,.0f}\")\n",
        "\n",
        "print(\"\\n3. Prediction Accuracy:\")\n",
        "print(f\"{'Model':<25} {'Within 10%':<12} {'Within 20%':<12}\")\n",
        "print(\"-\" * 50)\n",
        "\n",
        "for _, row in enhanced_comparison.iterrows():\n",
        "    print(f\"{row['model_name']:<25} \"\n",
        "          f\"{row['within_10pct']:<12.1f}% \"\n",
        "          f\"{row['within_20pct']:<12.1f}%\")\n"
      ]
    },
    {
      "cell_type": "code",
      "execution_count": 3,
      "metadata": {},
      "outputs": [
        {
          "name": "stdout",
          "output_type": "stream",
          "text": [
            "\n",
            "=== BEST ENHANCED MODEL ===\n",
            "🏆 Enhanced Random Forest\n",
            "Test R²: 0.9134\n",
            "Test RMSE: $21,854\n",
            "Within 10%: 79.1%\n",
            "\n",
            "=== IMPROVEMENT OVER BASIC MODELS ===\n",
            "Best Basic Model: Linear Regression\n",
            "  Test R²: 0.8903\n",
            "  Within 10%: 69.5%\n",
            "\n",
            "Improvement:\n",
            "  R² improvement: +2.6%\n",
            "  10% accuracy improvement: +9.6 percentage points\n",
            "\n",
            "✓ Enhanced model comparison completed\n"
          ]
        }
      ],
      "source": [
        "# Best model selection\n",
        "best_model = enhanced_comparison.loc[enhanced_comparison['test_r2'].idxmax()]\n",
        "\n",
        "print(\"\\n=== BEST ENHANCED MODEL ===\")\n",
        "print(f\"🏆 {best_model['model_name']}\")\n",
        "print(f\"Test R²: {best_model['test_r2']:.4f}\")\n",
        "print(f\"Test RMSE: ${best_model['test_rmse_original']:,.0f}\")\n",
        "print(f\"Within 10%: {best_model['within_10pct']:.1f}%\")\n",
        "\n",
        "# Load and compare with basic models\n",
        "try:\n",
        "    basic_results_dir = '../../models/basic'\n",
        "    \n",
        "    with open(f'{basic_results_dir}/linear_results.pkl', 'rb') as f:\n",
        "        basic_linear = pickle.load(f)\n",
        "    with open(f'{basic_results_dir}/ridge_results.pkl', 'rb') as f:\n",
        "        basic_ridge = pickle.load(f)\n",
        "    with open(f'{basic_results_dir}/random_forest_results.pkl', 'rb') as f:\n",
        "        basic_rf = pickle.load(f)\n",
        "    \n",
        "    basic_comparison = pd.DataFrame([basic_linear, basic_ridge, basic_rf])\n",
        "    best_basic = basic_comparison.loc[basic_comparison['test_r2'].idxmax()]\n",
        "    \n",
        "    print(f\"\\n=== IMPROVEMENT OVER BASIC MODELS ===\")\n",
        "    print(f\"Best Basic Model: {best_basic['model_name']}\")\n",
        "    print(f\"  Test R²: {best_basic['test_r2']:.4f}\")\n",
        "    print(f\"  Within 10%: {best_basic['within_10pct']:.1f}%\")\n",
        "    \n",
        "    print(f\"\\nImprovement:\")\n",
        "    r2_improvement = ((best_model['test_r2'] - best_basic['test_r2']) / best_basic['test_r2']) * 100\n",
        "    accuracy_improvement = best_model['within_10pct'] - best_basic['within_10pct']\n",
        "    \n",
        "    print(f\"  R² improvement: {r2_improvement:+.1f}%\")\n",
        "    print(f\"  10% accuracy improvement: {accuracy_improvement:+.1f} percentage points\")\n",
        "    \n",
        "except FileNotFoundError:\n",
        "    print(\"\\n⚠️ Basic model results not found for comparison\")\n",
        "\n",
        "print(\"\\n✓ Enhanced model comparison completed\")\n"
      ]
    }
  ],
  "metadata": {
    "kernelspec": {
      "display_name": "venv",
      "language": "python",
      "name": "python3"
    },
    "language_info": {
      "codemirror_mode": {
        "name": "ipython",
        "version": 3
      },
      "file_extension": ".py",
      "mimetype": "text/x-python",
      "name": "python",
      "nbconvert_exporter": "python",
      "pygments_lexer": "ipython3",
      "version": "3.12.3"
    }
  },
  "nbformat": 4,
  "nbformat_minor": 2
}
