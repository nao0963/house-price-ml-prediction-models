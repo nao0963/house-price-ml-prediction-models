{
  "cells": [
    {
      "cell_type": "markdown",
      "metadata": {},
      "source": [
        "# Basic Feature Engineering\n",
        "\n",
        "This notebook implements minimal feature engineering with only essential features.\n",
        "\n",
        "## What we will do:\n",
        "1. Load cleaned data\n",
        "2. Create basic features (TotalSF, HouseAge)\n",
        "3. Save processed data\n"
      ]
    },
    {
      "cell_type": "code",
      "execution_count": 1,
      "metadata": {},
      "outputs": [],
      "source": [
        "# Import libraries\n",
        "import pandas as pd\n",
        "import numpy as np\n",
        "import sys\n",
        "sys.path.append('../../scripts')\n",
        "from feature_builders import BasicFeatureBuilder\n"
      ]
    },
    {
      "cell_type": "markdown",
      "metadata": {},
      "source": [
        "## 1. Load Data\n"
      ]
    },
    {
      "cell_type": "code",
      "execution_count": 2,
      "metadata": {},
      "outputs": [
        {
          "name": "stdout",
          "output_type": "stream",
          "text": [
            "Data shape: (1161, 81)\n"
          ]
        }
      ],
      "source": [
        "# Load cleaned data\n",
        "df = pd.read_csv('../../data/cleaned/domain_cleaned.csv')\n",
        "print(f\"Data shape: {df.shape}\")\n"
      ]
    },
    {
      "cell_type": "markdown",
      "metadata": {},
      "source": [
        "## 2. Basic Feature Engineering\n"
      ]
    },
    {
      "cell_type": "code",
      "execution_count": 3,
      "metadata": {},
      "outputs": [
        {
          "name": "stdout",
          "output_type": "stream",
          "text": [
            "Features shape: (1161, 80)\n",
            "Target shape: (1161,)\n"
          ]
        }
      ],
      "source": [
        "# Separate features and target\n",
        "X = df.drop('SalePrice', axis=1)\n",
        "y = df['SalePrice']\n",
        "\n",
        "print(f\"Features shape: {X.shape}\")\n",
        "print(f\"Target shape: {y.shape}\")\n"
      ]
    },
    {
      "cell_type": "code",
      "execution_count": 4,
      "metadata": {},
      "outputs": [
        {
          "name": "stdout",
          "output_type": "stream",
          "text": [
            "Original features: 80\n",
            "After basic engineering: 82\n",
            "New features added: 2\n"
          ]
        }
      ],
      "source": [
        "# Apply basic feature engineering\n",
        "basic_builder = BasicFeatureBuilder()\n",
        "basic_builder.fit(X, y)\n",
        "X_basic = basic_builder.transform(X)\n",
        "\n",
        "print(f\"Original features: {X.shape[1]}\")\n",
        "print(f\"After basic engineering: {X_basic.shape[1]}\")\n",
        "print(f\"New features added: {X_basic.shape[1] - X.shape[1]}\")\n"
      ]
    },
    {
      "cell_type": "code",
      "execution_count": 5,
      "metadata": {},
      "outputs": [
        {
          "name": "stdout",
          "output_type": "stream",
          "text": [
            "New features: ['TotalSF', 'HouseAge']\n",
            "\n",
            "New feature statistics:\n",
            "           TotalSF     HouseAge\n",
            "count  1161.000000  1161.000000\n",
            "mean   2560.031869    38.761413\n",
            "std     766.855433    30.177134\n",
            "min     720.000000     0.000000\n",
            "25%    2014.000000    10.000000\n",
            "50%    2486.000000    37.000000\n",
            "75%    2992.000000    56.000000\n",
            "max    6872.000000   138.000000\n"
          ]
        }
      ],
      "source": [
        "# Show new features\n",
        "new_features = [col for col in X_basic.columns if col not in X.columns]\n",
        "print(f\"New features: {new_features}\")\n",
        "\n",
        "if new_features:\n",
        "    print(\"\\nNew feature statistics:\")\n",
        "    print(X_basic[new_features].describe())\n"
      ]
    },
    {
      "cell_type": "markdown",
      "metadata": {},
      "source": [
        "## 3. Save Data\n"
      ]
    },
    {
      "cell_type": "code",
      "execution_count": 6,
      "metadata": {},
      "outputs": [
        {
          "name": "stdout",
          "output_type": "stream",
          "text": [
            "Saved basic features dataset: (1161, 83)\n"
          ]
        }
      ],
      "source": [
        "# Combine features and target\n",
        "df_basic = X_basic.copy()\n",
        "df_basic['SalePrice'] = y\n",
        "\n",
        "# Save to processed folder\n",
        "df_basic.to_csv('../../data/processed/df_basic_features.csv', index=False)\n",
        "print(f\"Saved basic features dataset: {df_basic.shape}\")\n"
      ]
    }
  ],
  "metadata": {
    "kernelspec": {
      "display_name": "venv",
      "language": "python",
      "name": "python3"
    },
    "language_info": {
      "codemirror_mode": {
        "name": "ipython",
        "version": 3
      },
      "file_extension": ".py",
      "mimetype": "text/x-python",
      "name": "python",
      "nbconvert_exporter": "python",
      "pygments_lexer": "ipython3",
      "version": "3.12.3"
    }
  },
  "nbformat": 4,
  "nbformat_minor": 2
}
