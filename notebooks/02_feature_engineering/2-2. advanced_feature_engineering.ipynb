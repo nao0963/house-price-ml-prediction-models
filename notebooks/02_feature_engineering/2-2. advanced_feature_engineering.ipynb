{
  "cells": [
    {
      "cell_type": "markdown",
      "metadata": {},
      "source": [
        "# Advanced Feature Engineering\n",
        "\n",
        "This notebook implements comprehensive feature engineering with interaction, ratio, derived, and categorical features.\n",
        "\n",
        "## What we will do:\n",
        "1. Load cleaned data\n",
        "2. Create advanced features (interactions, ratios, derived, categorical)\n",
        "3. Compare with basic features\n",
        "4. Save processed data\n"
      ]
    },
    {
      "cell_type": "code",
      "execution_count": 1,
      "metadata": {},
      "outputs": [],
      "source": [
        "# Import libraries\n",
        "import pandas as pd\n",
        "import numpy as np\n",
        "import sys\n",
        "sys.path.append('../../scripts')\n",
        "from feature_builders import BasicFeatureBuilder, AdvancedFeatureBuilder\n"
      ]
    },
    {
      "cell_type": "markdown",
      "metadata": {},
      "source": [
        "## 1. Load Data\n"
      ]
    },
    {
      "cell_type": "code",
      "execution_count": 2,
      "metadata": {},
      "outputs": [
        {
          "name": "stdout",
          "output_type": "stream",
          "text": [
            "Data shape: (1161, 81)\n"
          ]
        }
      ],
      "source": [
        "# Load cleaned data\n",
        "df = pd.read_csv('../../data/cleaned/domain_cleaned.csv')\n",
        "print(f\"Data shape: {df.shape}\")\n"
      ]
    },
    {
      "cell_type": "markdown",
      "metadata": {},
      "source": [
        "## 2. Advanced Feature Engineering\n"
      ]
    },
    {
      "cell_type": "code",
      "execution_count": 3,
      "metadata": {},
      "outputs": [
        {
          "name": "stdout",
          "output_type": "stream",
          "text": [
            "Features shape: (1161, 80)\n",
            "Target shape: (1161,)\n"
          ]
        }
      ],
      "source": [
        "# Separate features and target\n",
        "X = df.drop('SalePrice', axis=1)\n",
        "y = df['SalePrice']\n",
        "\n",
        "print(f\"Features shape: {X.shape}\")\n",
        "print(f\"Target shape: {y.shape}\")\n"
      ]
    },
    {
      "cell_type": "code",
      "execution_count": 4,
      "metadata": {},
      "outputs": [
        {
          "name": "stdout",
          "output_type": "stream",
          "text": [
            "Original features: 80\n",
            "After advanced engineering: 104\n",
            "New features added: 24\n"
          ]
        }
      ],
      "source": [
        "# Apply advanced feature engineering\n",
        "advanced_builder = AdvancedFeatureBuilder()\n",
        "advanced_builder.fit(X, y)\n",
        "X_advanced = advanced_builder.transform(X)\n",
        "\n",
        "print(f\"Original features: {X.shape[1]}\")\n",
        "print(f\"After advanced engineering: {X_advanced.shape[1]}\")\n",
        "print(f\"New features added: {X_advanced.shape[1] - X.shape[1]}\")\n"
      ]
    },
    {
      "cell_type": "code",
      "execution_count": 5,
      "metadata": {},
      "outputs": [
        {
          "name": "stdout",
          "output_type": "stream",
          "text": [
            "Total new features: 24\n",
            "\\nInteraction features (4): ['Quality_x_Area', 'Quality_x_TotalSF', 'Bath_x_Area', 'Garage_x_Quality']\n",
            "Ratio features (5): ['GrLivArea_to_LotArea', '1stFlr_to_GrLivArea', 'GarageArea_to_GrLivArea', 'BsmtArea_to_GrLivArea', 'AvgRoomSize']\n",
            "Derived features (3): ['TotalBathrooms', 'EffectiveAge', 'TotalPorchSF']\n",
            "Categorical features (12): ['TotalSF', 'HouseAge', 'AgeCategory', 'IsNew', 'Has2ndFloor', 'HasBasement', 'HasFireplace', 'HasPool', 'HasMasVnrArea', 'HasPorch', 'QualityCategory', 'NeighborhoodCategory']\n"
          ]
        }
      ],
      "source": [
        "# Show new features by category\n",
        "new_features = [col for col in X_advanced.columns if col not in X.columns]\n",
        "print(f\"Total new features: {len(new_features)}\")\n",
        "\n",
        "# Group features by type\n",
        "interaction_features = [f for f in new_features if '_x_' in f]\n",
        "ratio_features = [f for f in new_features if '_to_' in f or 'AvgRoomSize' in f]\n",
        "derived_features = [f for f in new_features if f in ['TotalBathrooms', 'EffectiveAge', 'TotalPorchSF']]\n",
        "categorical_features = [f for f in new_features if f not in interaction_features + ratio_features + derived_features]\n",
        "\n",
        "print(f\"\\\\nInteraction features ({len(interaction_features)}): {interaction_features}\")\n",
        "print(f\"Ratio features ({len(ratio_features)}): {ratio_features}\")\n",
        "print(f\"Derived features ({len(derived_features)}): {derived_features}\")\n",
        "print(f\"Categorical features ({len(categorical_features)}): {categorical_features}\")\n"
      ]
    },
    {
      "cell_type": "markdown",
      "metadata": {},
      "source": [
        "## 3. Compare with Basic Features\n"
      ]
    },
    {
      "cell_type": "code",
      "execution_count": 6,
      "metadata": {},
      "outputs": [
        {
          "name": "stdout",
          "output_type": "stream",
          "text": [
            "Basic features added: 2\n",
            "Advanced features added: 24\n",
            "Difference: 22 additional features\n"
          ]
        }
      ],
      "source": [
        "# Compare with basic features\n",
        "basic_builder = BasicFeatureBuilder()\n",
        "basic_builder.fit(X, y)\n",
        "X_basic = basic_builder.transform(X)\n",
        "\n",
        "basic_new_features = [col for col in X_basic.columns if col not in X.columns]\n",
        "advanced_new_features = [col for col in X_advanced.columns if col not in X.columns]\n",
        "\n",
        "print(f\"Basic features added: {len(basic_new_features)}\")\n",
        "print(f\"Advanced features added: {len(advanced_new_features)}\")\n",
        "print(f\"Difference: {len(advanced_new_features) - len(basic_new_features)} additional features\")\n"
      ]
    },
    {
      "cell_type": "markdown",
      "metadata": {},
      "source": [
        "## 4. Save Data\n"
      ]
    },
    {
      "cell_type": "code",
      "execution_count": 7,
      "metadata": {},
      "outputs": [
        {
          "name": "stdout",
          "output_type": "stream",
          "text": [
            "Saved advanced features dataset: (1161, 105)\n"
          ]
        }
      ],
      "source": [
        "# Combine features and target\n",
        "df_advanced = X_advanced.copy()\n",
        "df_advanced['SalePrice'] = y\n",
        "\n",
        "# Save to processed folder\n",
        "df_advanced.to_csv('../../data/processed/df_advanced_features.csv', index=False)\n",
        "print(f\"Saved advanced features dataset: {df_advanced.shape}\")\n"
      ]
    }
  ],
  "metadata": {
    "kernelspec": {
      "display_name": "venv",
      "language": "python",
      "name": "python3"
    },
    "language_info": {
      "codemirror_mode": {
        "name": "ipython",
        "version": 3
      },
      "file_extension": ".py",
      "mimetype": "text/x-python",
      "name": "python",
      "nbconvert_exporter": "python",
      "pygments_lexer": "ipython3",
      "version": "3.12.3"
    }
  },
  "nbformat": 4,
  "nbformat_minor": 2
}
