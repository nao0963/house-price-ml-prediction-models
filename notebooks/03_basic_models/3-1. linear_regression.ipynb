{
  "cells": [
    {
      "cell_type": "markdown",
      "metadata": {},
      "source": [
        "# Linear Regression\n",
        "\n",
        "Basic linear regression model for house price prediction using advanced ML pipeline with cross-validation.\n"
      ]
    },
    {
      "cell_type": "code",
      "execution_count": 1,
      "metadata": {},
      "outputs": [
        {
          "name": "stdout",
          "output_type": "stream",
          "text": [
            "Dataset: (1161, 80)\n",
            "Features: 80\n",
            "Target range: $52,500 - $755,000\n"
          ]
        }
      ],
      "source": [
        "import pandas as pd\n",
        "import numpy as np\n",
        "import sys\n",
        "import os\n",
        "sys.path.insert(0, os.path.abspath('../../scripts/'))\n",
        "from sklearn.linear_model import LinearRegression\n",
        "import warnings\n",
        "warnings.filterwarnings('ignore')\n",
        "\n",
        "# Import advanced pipeline\n",
        "from pipelines import (\n",
        "    load_and_prepare_data,\n",
        "    make_pipeline, \n",
        "    get_linear_config,\n",
        "    evaluate_pipeline_cv\n",
        ")\n",
        "\n",
        "# Load data\n",
        "X, y = load_and_prepare_data('../../data/cleaned/domain_cleaned.csv')\n",
        "\n",
        "print(f\"Dataset: {X.shape}\")\n",
        "print(f\"Features: {X.shape[1]}\")\n",
        "print(f\"Target range: ${y.min():,.0f} - ${y.max():,.0f}\")\n"
      ]
    },
    {
      "cell_type": "code",
      "execution_count": 2,
      "metadata": {},
      "outputs": [
        {
          "name": "stdout",
          "output_type": "stream",
          "text": [
            "Pipeline created with components:\n",
            "  1. smart_impute: SmartImputer\n",
            "  2. outlier_handler: StatisticalOutlierHandler\n",
            "  3. feature_eng: FeatureBuilder\n",
            "  4. skew_correct: SkewnessCorrector\n",
            "  5. dtype_opt: DataTypeOptimizer\n",
            "  6. preprocess: ColumnTransformer\n",
            "  7. select: SelectKBest\n",
            "  8. model: LinearRegression\n",
            "  Target transformation: log1p/expm1\n"
          ]
        }
      ],
      "source": [
        "# Create advanced pipeline for Linear Regression\n",
        "pipeline = make_pipeline(\n",
        "    LinearRegression(),\n",
        "    **get_linear_config()\n",
        ")\n",
        "\n",
        "print(\"Pipeline created with components:\")\n",
        "for i, (name, step) in enumerate(pipeline.regressor.steps):\n",
        "    print(f\"  {i+1}. {name}: {type(step).__name__}\")\n",
        "print(f\"  Target transformation: log1p/expm1\")\n"
      ]
    },
    {
      "cell_type": "code",
      "execution_count": 3,
      "metadata": {},
      "outputs": [
        {
          "name": "stdout",
          "output_type": "stream",
          "text": [
            "Cross-Validation Results (5-fold):\n",
            "----------------------------------------\n",
            "ROOT_MEAN_SQUARED_ERROR: 27075.1824 (+/- 1715.5422)\n",
            "MEAN_ABSOLUTE_ERROR : 18082.4446 (+/- 746.7383)\n",
            "R2                  : 0.8761 (+/- 0.0280)\n",
            "----------------------------------------\n",
            "\n",
            "Summary:\n",
            "RMSE: $27,075 (±1,716)\n",
            "MAE:  $18,082 (±747)\n",
            "R²:   0.8761 (±0.0280)\n"
          ]
        }
      ],
      "source": [
        "# Cross-validation evaluation\n",
        "results = evaluate_pipeline_cv(\n",
        "    pipeline, X, y, \n",
        "    cv=5, \n",
        "    random_state=42, \n",
        "    verbose=True\n",
        ")\n",
        "\n",
        "# Extract key metrics\n",
        "cv_rmse = results['ROOT_MEAN_SQUARED_ERROR']['mean']\n",
        "cv_mae = results['MEAN_ABSOLUTE_ERROR']['mean']\n",
        "cv_r2 = results['R2']['mean']\n",
        "\n",
        "print(f\"\\nSummary:\")\n",
        "print(f\"RMSE: ${cv_rmse:,.0f} (±{results['ROOT_MEAN_SQUARED_ERROR']['std']:,.0f})\")\n",
        "print(f\"MAE:  ${cv_mae:,.0f} (±{results['MEAN_ABSOLUTE_ERROR']['std']:,.0f})\")\n",
        "print(f\"R²:   {cv_r2:.4f} (±{results['R2']['std']:.4f})\")\n"
      ]
    },
    {
      "cell_type": "code",
      "execution_count": 4,
      "metadata": {},
      "outputs": [
        {
          "name": "stdout",
          "output_type": "stream",
          "text": [
            "✓ Linear Regression completed\n",
            "✓ Results saved to models/basic/linear_results.pkl\n"
          ]
        }
      ],
      "source": [
        "# Save results (CV-based only for model comparison)\n",
        "linear_results = {\n",
        "    'model_name': 'Linear Regression',\n",
        "    'cv_rmse': cv_rmse,\n",
        "    'cv_rmse_std': results['ROOT_MEAN_SQUARED_ERROR']['std'],\n",
        "    'cv_mae': cv_mae,\n",
        "    'cv_mae_std': results['MEAN_ABSOLUTE_ERROR']['std'],\n",
        "    'cv_r2': cv_r2,\n",
        "    'cv_r2_std': results['R2']['std'],\n",
        "    'cv_scores': results\n",
        "}\n",
        "\n",
        "import os\n",
        "import pickle\n",
        "os.makedirs('../../models/basic/', exist_ok=True)\n",
        "with open('../../models/basic/linear_results.pkl', 'wb') as f:\n",
        "    pickle.dump(linear_results, f)\n",
        "\n",
        "print(\"✓ Linear Regression completed\")\n",
        "print(f\"✓ Results saved to models/basic/linear_results.pkl\")\n"
      ]
    }
  ],
  "metadata": {
    "kernelspec": {
      "display_name": "venv",
      "language": "python",
      "name": "python3"
    },
    "language_info": {
      "codemirror_mode": {
        "name": "ipython",
        "version": 3
      },
      "file_extension": ".py",
      "mimetype": "text/x-python",
      "name": "python",
      "nbconvert_exporter": "python",
      "pygments_lexer": "ipython3",
      "version": "3.12.3"
    }
  },
  "nbformat": 4,
  "nbformat_minor": 2
}
