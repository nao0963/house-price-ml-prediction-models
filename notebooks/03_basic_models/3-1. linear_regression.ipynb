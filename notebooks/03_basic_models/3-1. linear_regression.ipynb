{
  "cells": [
    {
      "cell_type": "markdown",
      "metadata": {},
      "source": [
        "# Linear Regression\n",
        "\n",
        "Basic linear regression model for house price prediction.\n"
      ]
    },
    {
      "cell_type": "code",
      "execution_count": 33,
      "metadata": {},
      "outputs": [
        {
          "name": "stdout",
          "output_type": "stream",
          "text": [
            "Dataset: (1408, 24)\n",
            "Features: 24\n"
          ]
        }
      ],
      "source": [
        "import pandas as pd\n",
        "import numpy as np\n",
        "from sklearn.linear_model import LinearRegression\n",
        "from sklearn.model_selection import train_test_split, cross_val_score, KFold\n",
        "from sklearn.metrics import mean_squared_error, mean_absolute_error, r2_score\n",
        "import warnings\n",
        "warnings.filterwarnings('ignore')\n",
        "\n",
        "# Load preprocessed data\n",
        "X = pd.read_pickle('../../data/processed/df_linear_ready.pkl').drop(['SalePrice'], axis=1)\n",
        "y = pd.read_pickle('../../data/processed/df_linear_ready.pkl')['SalePrice']\n",
        "\n",
        "print(f\"Dataset: {X.shape}\")\n",
        "print(f\"Features: {X.shape[1]}\")\n"
      ]
    },
    {
      "cell_type": "code",
      "execution_count": 34,
      "metadata": {},
      "outputs": [
        {
          "name": "stdout",
          "output_type": "stream",
          "text": [
            "Training set: (1126, 24)\n",
            "Test set: (282, 24)\n",
            "Target range: $52,000 - $451,950\n"
          ]
        }
      ],
      "source": [
        "# Prepare data\n",
        "X_train, X_test, y_train, y_test = train_test_split(X, y, test_size=0.2, random_state=42)\n",
        "\n",
        "print(f\"Training set: {X_train.shape}\")\n",
        "print(f\"Test set: {X_test.shape}\")\n",
        "print(f\"Target range: ${np.expm1(y).min():,.0f} - ${np.expm1(y).max():,.0f}\")\n"
      ]
    },
    {
      "cell_type": "code",
      "execution_count": 35,
      "metadata": {},
      "outputs": [
        {
          "name": "stdout",
          "output_type": "stream",
          "text": [
            "Cross Validation (log scale):\n",
            "RMSE: 0.1283 (±0.0085)\n",
            "MAE:  0.0920 (±0.0062)\n",
            "R²:   0.8794 (±0.0151)\n",
            "\n",
            "Original scale:\n",
            "RMSE: $0\n",
            "MAE:  $0\n"
          ]
        }
      ],
      "source": [
        "# Train model and cross validation\n",
        "model = LinearRegression()\n",
        "kf = KFold(n_splits=5, shuffle=True, random_state=42)\n",
        "\n",
        "cv_rmse = np.sqrt(-cross_val_score(model, X_train, y_train, cv=kf, scoring='neg_mean_squared_error'))\n",
        "cv_mae = -cross_val_score(model, X_train, y_train, cv=kf, scoring='neg_mean_absolute_error')\n",
        "cv_r2 = cross_val_score(model, X_train, y_train, cv=kf, scoring='r2')\n",
        "\n",
        "print(\"Cross Validation (log scale):\")\n",
        "print(f\"RMSE: {cv_rmse.mean():.4f} (±{cv_rmse.std():.4f})\")\n",
        "print(f\"MAE:  {cv_mae.mean():.4f} (±{cv_mae.std():.4f})\")\n",
        "print(f\"R²:   {cv_r2.mean():.4f} (±{cv_r2.std():.4f})\")\n",
        "\n",
        "# Convert to original scale\n",
        "cv_rmse_orig = np.expm1(cv_rmse.mean())\n",
        "cv_mae_orig = np.expm1(cv_mae.mean())\n",
        "print(f\"\\nOriginal scale:\")\n",
        "print(f\"RMSE: ${cv_rmse_orig:,.0f}\")\n",
        "print(f\"MAE:  ${cv_mae_orig:,.0f}\")\n"
      ]
    },
    {
      "cell_type": "code",
      "execution_count": 36,
      "metadata": {},
      "outputs": [
        {
          "name": "stdout",
          "output_type": "stream",
          "text": [
            "Test Set Performance:\n",
            "RMSE (log): 0.1240\n",
            "MAE (log):  0.0853\n",
            "R²:         0.8903\n",
            "RMSE:       $23,813\n",
            "MAE:        $15,540\n",
            "Within 10%: 69.5%\n",
            "Within 20%: 92.6%\n"
          ]
        }
      ],
      "source": [
        "# Test set performance\n",
        "model.fit(X_train, y_train)\n",
        "y_pred = model.predict(X_test)\n",
        "\n",
        "test_rmse = np.sqrt(mean_squared_error(y_test, y_pred))\n",
        "test_mae = mean_absolute_error(y_test, y_pred)\n",
        "test_r2 = r2_score(y_test, y_pred)\n",
        "\n",
        "y_test_orig = np.expm1(y_test)\n",
        "y_pred_orig = np.expm1(y_pred)\n",
        "test_rmse_orig = np.sqrt(mean_squared_error(y_test_orig, y_pred_orig))\n",
        "test_mae_orig = mean_absolute_error(y_test_orig, y_pred_orig)\n",
        "\n",
        "# Prediction accuracy\n",
        "errors = np.abs(y_pred_orig - y_test_orig) / y_test_orig\n",
        "within_10pct = (errors <= 0.10).mean() * 100\n",
        "within_20pct = (errors <= 0.20).mean() * 100\n",
        "\n",
        "print(\"Test Set Performance:\")\n",
        "print(f\"RMSE (log): {test_rmse:.4f}\")\n",
        "print(f\"MAE (log):  {test_mae:.4f}\")\n",
        "print(f\"R²:         {test_r2:.4f}\")\n",
        "print(f\"RMSE:       ${test_rmse_orig:,.0f}\")\n",
        "print(f\"MAE:        ${test_mae_orig:,.0f}\")\n",
        "print(f\"Within 10%: {within_10pct:.1f}%\")\n",
        "print(f\"Within 20%: {within_20pct:.1f}%\")\n"
      ]
    },
    {
      "cell_type": "code",
      "execution_count": 37,
      "metadata": {},
      "outputs": [
        {
          "name": "stdout",
          "output_type": "stream",
          "text": [
            "✓ Linear Regression completed\n"
          ]
        }
      ],
      "source": [
        "# Save results\n",
        "linear_results = {\n",
        "    'model_name': 'Linear Regression',\n",
        "    'cv_rmse_log': cv_rmse.mean(),\n",
        "    'cv_mae_log': cv_mae.mean(),\n",
        "    'cv_r2': cv_r2.mean(),\n",
        "    'cv_rmse_original': cv_rmse_orig,\n",
        "    'cv_mae_original': cv_mae_orig,\n",
        "    'test_rmse_log': test_rmse,\n",
        "    'test_mae_log': test_mae,\n",
        "    'test_r2': test_r2,\n",
        "    'test_rmse_original': test_rmse_orig,\n",
        "    'test_mae_original': test_mae_orig,\n",
        "    'within_10pct': within_10pct,\n",
        "    'within_20pct': within_20pct\n",
        "}\n",
        "\n",
        "import os\n",
        "os.makedirs('../../models/basic/', exist_ok=True)\n",
        "import pickle\n",
        "with open('../../models/basic/linear_results.pkl', 'wb') as f:\n",
        "    pickle.dump(linear_results, f)\n",
        "\n",
        "print(\"✓ Linear Regression completed\")\n"
      ]
    }
  ],
  "metadata": {
    "kernelspec": {
      "display_name": "venv",
      "language": "python",
      "name": "python3"
    },
    "language_info": {
      "name": "python",
      "version": "3.12.3"
    }
  },
  "nbformat": 4,
  "nbformat_minor": 2
}
