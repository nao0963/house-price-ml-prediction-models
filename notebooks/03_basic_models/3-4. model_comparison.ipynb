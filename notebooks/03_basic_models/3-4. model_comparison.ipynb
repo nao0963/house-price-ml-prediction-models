{
  "cells": [
    {
      "cell_type": "markdown",
      "metadata": {},
      "source": [
        "# Basic Model Comparison\n",
        "\n",
        "Comparing performance of basic machine learning models.\n"
      ]
    },
    {
      "cell_type": "code",
      "execution_count": 15,
      "metadata": {},
      "outputs": [
        {
          "name": "stdout",
          "output_type": "stream",
          "text": [
            "✓ All basic model results loaded\n"
          ]
        }
      ],
      "source": [
        "import pandas as pd\n",
        "import numpy as np\n",
        "import pickle\n",
        "import warnings\n",
        "warnings.filterwarnings('ignore')\n",
        "\n",
        "# Load basic model results\n",
        "results_dir = '../../models/basic/'\n",
        "\n",
        "try:\n",
        "    with open(f'{results_dir}/linear_results.pkl', 'rb') as f:\n",
        "        linear_results = pickle.load(f)\n",
        "    with open(f'{results_dir}/ridge_results.pkl', 'rb') as f:\n",
        "        ridge_results = pickle.load(f)\n",
        "    with open(f'{results_dir}/random_forest_results.pkl', 'rb') as f:\n",
        "        rf_results = pickle.load(f)\n",
        "    \n",
        "    print(\"✓ All basic model results loaded\")\n",
        "    \n",
        "except FileNotFoundError as e:\n",
        "    print(f\"⚠️ Missing results file: {e}\")\n",
        "    print(\"Please run notebooks 3-1, 3-2, and 3-3 first\")\n"
      ]
    },
    {
      "cell_type": "code",
      "execution_count": 16,
      "metadata": {},
      "outputs": [
        {
          "name": "stdout",
          "output_type": "stream",
          "text": [
            "=== BASIC MODEL PERFORMANCE COMPARISON ===\n",
            "\n",
            "1. Cross Validation Performance:\n",
            "Model                RMSE(log)    MAE(log)     R²           RMSE($)      MAE($)      \n",
            "--------------------------------------------------------------------------------\n",
            "Linear Regression    0.1283       0.0920       0.8794       $0           $0          \n",
            "Ridge Regression     0.1281       0.0917       0.8798       $0           $0          \n",
            "Random Forest        0.1331       0.0949       0.8698       $0           $0          \n",
            "\n",
            "2. Test Set Performance:\n",
            "Model                RMSE(log)    MAE(log)     R²           RMSE($)      MAE($)      \n",
            "--------------------------------------------------------------------------------\n",
            "Linear Regression    0.1240       0.0853       0.8903       $23,813      $15,540     \n",
            "Ridge Regression     0.1242       0.0856       0.8900       $23,859      $15,562     \n",
            "Random Forest        0.1353       0.0950       0.8694       $26,320      $17,341     \n",
            "\n",
            "3. Prediction Accuracy:\n",
            "Model                Within 10%   Within 20%  \n",
            "---------------------------------------------\n",
            "Linear Regression    69.5        % 92.6        %\n",
            "Ridge Regression     69.1        % 92.9        %\n",
            "Random Forest        68.1        % 89.0        %\n"
          ]
        }
      ],
      "source": [
        "# Performance comparison\n",
        "basic_comparison = pd.DataFrame([linear_results, ridge_results, rf_results])\n",
        "\n",
        "print(\"=== BASIC MODEL PERFORMANCE COMPARISON ===\")\n",
        "print(\"\\n1. Cross Validation Performance:\")\n",
        "print(f\"{'Model':<20} {'RMSE(log)':<12} {'MAE(log)':<12} {'R²':<12} {'RMSE($)':<12} {'MAE($)':<12}\")\n",
        "print(\"-\" * 80)\n",
        "\n",
        "for _, row in basic_comparison.iterrows():\n",
        "    print(f\"{row['model_name']:<20} \"\n",
        "          f\"{row['cv_rmse_log']:<12.4f} \"\n",
        "          f\"{row['cv_mae_log']:<12.4f} \"\n",
        "          f\"{row['cv_r2']:<12.4f} \"\n",
        "          f\"${row['cv_rmse_original']:<11,.0f} \"\n",
        "          f\"${row['cv_mae_original']:<11,.0f}\")\n",
        "\n",
        "print(\"\\n2. Test Set Performance:\")\n",
        "print(f\"{'Model':<20} {'RMSE(log)':<12} {'MAE(log)':<12} {'R²':<12} {'RMSE($)':<12} {'MAE($)':<12}\")\n",
        "print(\"-\" * 80)\n",
        "\n",
        "for _, row in basic_comparison.iterrows():\n",
        "    print(f\"{row['model_name']:<20} \"\n",
        "          f\"{row['test_rmse_log']:<12.4f} \"\n",
        "          f\"{row['test_mae_log']:<12.4f} \"\n",
        "          f\"{row['test_r2']:<12.4f} \"\n",
        "          f\"${row['test_rmse_original']:<11,.0f} \"\n",
        "          f\"${row['test_mae_original']:<11,.0f}\")\n",
        "\n",
        "print(\"\\n3. Prediction Accuracy:\")\n",
        "print(f\"{'Model':<20} {'Within 10%':<12} {'Within 20%':<12}\")\n",
        "print(\"-\" * 45)\n",
        "\n",
        "for _, row in basic_comparison.iterrows():\n",
        "    print(f\"{row['model_name']:<20} \"\n",
        "          f\"{row['within_10pct']:<12.1f}% \"\n",
        "          f\"{row['within_20pct']:<12.1f}%\")\n"
      ]
    },
    {
      "cell_type": "code",
      "execution_count": 17,
      "metadata": {},
      "outputs": [
        {
          "name": "stdout",
          "output_type": "stream",
          "text": [
            "\n",
            "=== BEST BASIC MODEL ===\n",
            "🏆 Linear Regression\n",
            "Test R²: 0.8903\n",
            "Test RMSE: $23,813\n",
            "Test MAE: $15,540\n",
            "Within 10%: 69.5%\n",
            "Within 20%: 92.6%\n",
            "\n",
            "✓ Basic model comparison completed\n"
          ]
        }
      ],
      "source": [
        "# Best model selection\n",
        "best_model = basic_comparison.loc[basic_comparison['test_r2'].idxmax()]\n",
        "\n",
        "print(\"\\n=== BEST BASIC MODEL ===\")\n",
        "print(f\"🏆 {best_model['model_name']}\")\n",
        "print(f\"Test R²: {best_model['test_r2']:.4f}\")\n",
        "print(f\"Test RMSE: ${best_model['test_rmse_original']:,.0f}\")\n",
        "print(f\"Test MAE: ${best_model['test_mae_original']:,.0f}\")\n",
        "print(f\"Within 10%: {best_model['within_10pct']:.1f}%\")\n",
        "print(f\"Within 20%: {best_model['within_20pct']:.1f}%\")\n",
        "\n",
        "print(\"\\n✓ Basic model comparison completed\")\n"
      ]
    }
  ],
  "metadata": {
    "kernelspec": {
      "display_name": "venv",
      "language": "python",
      "name": "python3"
    },
    "language_info": {
      "name": "python",
      "version": "3.12.3"
    }
  },
  "nbformat": 4,
  "nbformat_minor": 2
}
